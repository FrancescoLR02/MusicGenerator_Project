{
 "cells": [
  {
   "cell_type": "code",
   "execution_count": 78,
   "id": "24b91821",
   "metadata": {},
   "outputs": [],
   "source": [
    "import numpy as np\n",
    "import matplotlib.pyplot as plt \n",
    "import pandas \n",
    "import mido\n",
    "import os\n",
    "import time\n",
    "from tqdm import tqdm\n",
    "from mido.midifiles.meta import KeySignatureError\n"
   ]
  },
  {
   "cell_type": "code",
   "execution_count": 2,
   "id": "4f652665",
   "metadata": {},
   "outputs": [
    {
     "name": "stdout",
     "output_type": "stream",
     "text": [
      "['PythonMIDI Bus 1']\n"
     ]
    }
   ],
   "source": [
    "print(mido.get_output_names())\n",
    "port = mido.open_output('PythonMIDI Bus 1')\n",
    "\n",
    "\n",
    "msg_on = mido.Message('note_on', note=60, velocity=100)\n",
    "msg_off = mido.Message('note_off', note=60)\n",
    "\n",
    "port.send(msg_on)\n",
    "time.sleep(1)\n",
    "port.send(msg_off)"
   ]
  },
  {
   "cell_type": "code",
   "execution_count": 3,
   "id": "52c2d766",
   "metadata": {},
   "outputs": [],
   "source": [
    "path = os.path.realpath('clean_midi/Eminem')"
   ]
  },
  {
   "cell_type": "code",
   "execution_count": 65,
   "id": "3bf1df61",
   "metadata": {},
   "outputs": [
    {
     "name": "stdout",
     "output_type": "stream",
     "text": [
      "4\n"
     ]
    }
   ],
   "source": [
    "mid = mido.MidiFile(f'{path}/Bad Meets Evil.mid')\n",
    "\n",
    "ticks_per_beat = mid.ticks_per_beat\n",
    "ticks_per_bar = None\n",
    "\n",
    "# Find time signature (if any)\n",
    "for track in mid.tracks:\n",
    "    for msg in track:\n",
    "        if msg.type == 'time_signature':\n",
    "            beats_per_bar = msg.numerator\n",
    "            print(beats_per_bar)\n",
    "\n"
   ]
  },
  {
   "cell_type": "code",
   "execution_count": null,
   "id": "6055a0ff",
   "metadata": {},
   "outputs": [],
   "source": []
  },
  {
   "cell_type": "code",
   "execution_count": 5,
   "id": "97f5919d",
   "metadata": {},
   "outputs": [
    {
     "name": "stdout",
     "output_type": "stream",
     "text": [
      "MetaMessage('set_tempo', tempo=722892, time=0)\n",
      "MetaMessage('time_signature', numerator=4, denominator=4, clocks_per_click=24, notated_32nd_notes_per_beat=8, time=0)\n",
      "MetaMessage('key_signature', key='C', time=0)\n",
      "MetaMessage('end_of_track', time=0)\n",
      "MetaMessage('track_name', name='untitled', time=0)\n",
      "MetaMessage('midi_port', port=0, time=0)\n",
      "MetaMessage('end_of_track', time=0)\n",
      "MetaMessage('track_name', name='TabIt MIDI - Track 1', time=0)\n",
      "MetaMessage('midi_port', port=0, time=0)\n",
      "MetaMessage('channel_prefix', channel=0, time=0)\n",
      "MetaMessage('end_of_track', time=0)\n",
      "MetaMessage('track_name', name='TabIt MIDI - Track 2', time=0)\n",
      "MetaMessage('midi_port', port=0, time=0)\n",
      "MetaMessage('channel_prefix', channel=1, time=0)\n",
      "MetaMessage('end_of_track', time=0)\n",
      "MetaMessage('track_name', name='TabIt MIDI - Track 3', time=0)\n",
      "MetaMessage('midi_port', port=0, time=0)\n",
      "MetaMessage('channel_prefix', channel=2, time=0)\n",
      "MetaMessage('end_of_track', time=0)\n",
      "MetaMessage('midi_port', port=0, time=0)\n",
      "MetaMessage('channel_prefix', channel=9, time=0)\n",
      "MetaMessage('end_of_track', time=0)\n"
     ]
    }
   ],
   "source": [
    "mid = mido.MidiFile(f'{path}/Stan.mid')\n",
    "#list(mid)[:500]\n",
    "\n",
    "meta_messages = [msg for track in mid.tracks for msg in track if msg.is_meta]\n",
    "\n",
    "# Optionally, preview a few\n",
    "for msg in meta_messages[:200]:\n",
    "    print(msg)"
   ]
  },
  {
   "cell_type": "code",
   "execution_count": null,
   "id": "1e0c3245",
   "metadata": {},
   "outputs": [],
   "source": []
  },
  {
   "cell_type": "code",
   "execution_count": null,
   "id": "ee1d90d4",
   "metadata": {},
   "outputs": [],
   "source": []
  },
  {
   "cell_type": "code",
   "execution_count": 19,
   "id": "a17cf7e4",
   "metadata": {},
   "outputs": [
    {
     "data": {
      "text/plain": [
       "120"
      ]
     },
     "execution_count": 19,
     "metadata": {},
     "output_type": "execute_result"
    }
   ],
   "source": [
    "1920 // 16"
   ]
  },
  {
   "cell_type": "code",
   "execution_count": null,
   "id": "84121037",
   "metadata": {},
   "outputs": [],
   "source": [
    "mid = mido.MidiFile(f'{path}/Bad Meets Evil.mid')\n",
    "list(mid)[:100]\n",
    "\n",
    "meta_messages = [msg for track in mid.tracks for msg in track if msg.is_meta == False]\n",
    "\n",
    "# Optionally, preview a few\n",
    "for i, msg in enumerate(meta_messages[:100]):\n",
    "    print(msg)"
   ]
  },
  {
   "cell_type": "code",
   "execution_count": 52,
   "id": "a323b98a",
   "metadata": {},
   "outputs": [],
   "source": [
    "path1 = os.path.realpath('clean_midi')"
   ]
  },
  {
   "cell_type": "code",
   "execution_count": 87,
   "id": "d522b695",
   "metadata": {},
   "outputs": [
    {
     "name": "stderr",
     "output_type": "stream",
     "text": [
      "  4%|▍         | 84/2199 [00:29<12:35,  2.80it/s]\n"
     ]
    },
    {
     "ename": "KeyboardInterrupt",
     "evalue": "",
     "output_type": "error",
     "traceback": [
      "\u001b[0;31m---------------------------------------------------------------------------\u001b[0m",
      "\u001b[0;31mKeyboardInterrupt\u001b[0m                         Traceback (most recent call last)",
      "Cell \u001b[0;32mIn[87], line 23\u001b[0m\n\u001b[1;32m     11\u001b[0m CompletePath \u001b[38;5;241m=\u001b[39m os\u001b[38;5;241m.\u001b[39mpath\u001b[38;5;241m.\u001b[39mjoin(DirPath, file)\n\u001b[1;32m     13\u001b[0m \u001b[38;5;66;03m# try:\u001b[39;00m\n\u001b[1;32m     14\u001b[0m \u001b[38;5;66;03m#     mid = mido.MidiFile(CompletePath)\u001b[39;00m\n\u001b[1;32m     15\u001b[0m \u001b[38;5;66;03m# except (OSError, ValueError, KeyError, KeySignatureError, EOFError) as e:\u001b[39;00m\n\u001b[0;32m   (...)\u001b[0m\n\u001b[1;32m     20\u001b[0m \u001b[38;5;66;03m#     except Exception as rm_err:\u001b[39;00m\n\u001b[1;32m     21\u001b[0m \u001b[38;5;66;03m#         print(f\"Failed to delete {file}: {rm_err}\")\u001b[39;00m\n\u001b[0;32m---> 23\u001b[0m mid \u001b[38;5;241m=\u001b[39m mido\u001b[38;5;241m.\u001b[39mMidiFile(CompletePath)\n\u001b[1;32m     25\u001b[0m \u001b[38;5;28;01mfor\u001b[39;00m track \u001b[38;5;129;01min\u001b[39;00m mid\u001b[38;5;241m.\u001b[39mtracks:\n\u001b[1;32m     26\u001b[0m     \u001b[38;5;28;01mfor\u001b[39;00m msg \u001b[38;5;129;01min\u001b[39;00m track:\n",
      "File \u001b[0;32m/opt/anaconda3/lib/python3.12/site-packages/mido/midifiles/midifiles.py:320\u001b[0m, in \u001b[0;36mMidiFile.__init__\u001b[0;34m(self, filename, file, type, ticks_per_beat, charset, debug, clip, tracks)\u001b[0m\n\u001b[1;32m    318\u001b[0m \u001b[38;5;28;01melif\u001b[39;00m \u001b[38;5;28mself\u001b[39m\u001b[38;5;241m.\u001b[39mfilename \u001b[38;5;129;01mis\u001b[39;00m \u001b[38;5;129;01mnot\u001b[39;00m \u001b[38;5;28;01mNone\u001b[39;00m:\n\u001b[1;32m    319\u001b[0m     \u001b[38;5;28;01mwith\u001b[39;00m \u001b[38;5;28mopen\u001b[39m(filename, \u001b[38;5;124m'\u001b[39m\u001b[38;5;124mrb\u001b[39m\u001b[38;5;124m'\u001b[39m) \u001b[38;5;28;01mas\u001b[39;00m file:\n\u001b[0;32m--> 320\u001b[0m         \u001b[38;5;28mself\u001b[39m\u001b[38;5;241m.\u001b[39m_load(file)\n",
      "File \u001b[0;32m/opt/anaconda3/lib/python3.12/site-packages/mido/midifiles/midifiles.py:371\u001b[0m, in \u001b[0;36mMidiFile._load\u001b[0;34m(self, infile)\u001b[0m\n\u001b[1;32m    368\u001b[0m \u001b[38;5;28;01mif\u001b[39;00m \u001b[38;5;28mself\u001b[39m\u001b[38;5;241m.\u001b[39mdebug:\n\u001b[1;32m    369\u001b[0m     _dbg(\u001b[38;5;124mf\u001b[39m\u001b[38;5;124m'\u001b[39m\u001b[38;5;124mTrack \u001b[39m\u001b[38;5;132;01m{\u001b[39;00mi\u001b[38;5;132;01m}\u001b[39;00m\u001b[38;5;124m:\u001b[39m\u001b[38;5;124m'\u001b[39m)\n\u001b[0;32m--> 371\u001b[0m \u001b[38;5;28mself\u001b[39m\u001b[38;5;241m.\u001b[39mtracks\u001b[38;5;241m.\u001b[39mappend(read_track(infile,\n\u001b[1;32m    372\u001b[0m                               debug\u001b[38;5;241m=\u001b[39m\u001b[38;5;28mself\u001b[39m\u001b[38;5;241m.\u001b[39mdebug,\n\u001b[1;32m    373\u001b[0m                               clip\u001b[38;5;241m=\u001b[39m\u001b[38;5;28mself\u001b[39m\u001b[38;5;241m.\u001b[39mclip))\n",
      "File \u001b[0;32m/opt/anaconda3/lib/python3.12/site-packages/mido/midifiles/midifiles.py:187\u001b[0m, in \u001b[0;36mread_track\u001b[0;34m(infile, debug, clip)\u001b[0m\n\u001b[1;32m    183\u001b[0m last_status \u001b[38;5;241m=\u001b[39m \u001b[38;5;28;01mNone\u001b[39;00m\n\u001b[1;32m    185\u001b[0m \u001b[38;5;28;01mwhile\u001b[39;00m \u001b[38;5;28;01mTrue\u001b[39;00m:\n\u001b[1;32m    186\u001b[0m     \u001b[38;5;66;03m# End of track reached.\u001b[39;00m\n\u001b[0;32m--> 187\u001b[0m     \u001b[38;5;28;01mif\u001b[39;00m infile\u001b[38;5;241m.\u001b[39mtell() \u001b[38;5;241m-\u001b[39m start \u001b[38;5;241m==\u001b[39m size:\n\u001b[1;32m    188\u001b[0m         \u001b[38;5;28;01mbreak\u001b[39;00m\n\u001b[1;32m    190\u001b[0m     \u001b[38;5;28;01mif\u001b[39;00m debug:\n",
      "\u001b[0;31mKeyboardInterrupt\u001b[0m: "
     ]
    }
   ],
   "source": [
    "err = 0\n",
    "\n",
    "for dir in tqdm(os.listdir(path1)):\n",
    "\n",
    "    DirPath = os.path.join(path1, dir)\n",
    "    \n",
    "    #to avoid .DS_store to be read\n",
    "    if not os.path.isdir(DirPath):\n",
    "        continue\n",
    "    for file in os.listdir(DirPath):\n",
    "        CompletePath = os.path.join(DirPath, file)\n",
    "\n",
    "        # try:\n",
    "        #     mid = mido.MidiFile(CompletePath)\n",
    "        # except (OSError, ValueError, KeyError, KeySignatureError, EOFError) as e:\n",
    "        #     err += 1\n",
    "        #     try:\n",
    "        #         os.remove(CompletePath)\n",
    "        #         print(f\"Removed\")\n",
    "        #     except Exception as rm_err:\n",
    "        #         print(f\"Failed to delete {file}: {rm_err}\")\n",
    "\n",
    "        mid = mido.MidiFile(CompletePath)\n",
    "\n",
    "        for track in mid.tracks:\n",
    "            for msg in track:\n",
    "                if msg.type == 'time_signature':\n",
    "                    pass #print(msg.numerator)\n",
    "      "
   ]
  },
  {
   "cell_type": "code",
   "execution_count": null,
   "id": "c91e6065",
   "metadata": {},
   "outputs": [],
   "source": []
  },
  {
   "cell_type": "code",
   "execution_count": null,
   "id": "642982ad",
   "metadata": {},
   "outputs": [],
   "source": []
  }
 ],
 "metadata": {
  "kernelspec": {
   "display_name": "base",
   "language": "python",
   "name": "python3"
  },
  "language_info": {
   "codemirror_mode": {
    "name": "ipython",
    "version": 3
   },
   "file_extension": ".py",
   "mimetype": "text/x-python",
   "name": "python",
   "nbconvert_exporter": "python",
   "pygments_lexer": "ipython3",
   "version": "3.12.9"
  }
 },
 "nbformat": 4,
 "nbformat_minor": 5
}
