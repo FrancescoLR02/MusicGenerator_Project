{
 "cells": [
  {
   "cell_type": "code",
   "execution_count": 1,
   "id": "24b91821",
   "metadata": {},
   "outputs": [],
   "source": [
    "import numpy as np\n",
    "import matplotlib.pyplot as plt \n",
    "import pandas \n",
    "import mido\n",
    "import os\n",
    "import time\n",
    "from tqdm import tqdm\n",
    "from mido.midifiles.meta import KeySignatureError"
   ]
  },
  {
   "cell_type": "code",
   "execution_count": 3,
   "id": "52c2d766",
   "metadata": {},
   "outputs": [],
   "source": [
    "path = os.path.realpath('clean_midi/Eminem/Stan.mid')"
   ]
  },
  {
   "cell_type": "code",
   "execution_count": null,
   "id": "3bf1df61",
   "metadata": {},
   "outputs": [],
   "source": [
    "mid = mido.MidiFile(path)\n",
    "\n",
    "mid\n",
    "\n",
    "# # Find time signature (if any)\n",
    "# for track in mid.tracks:\n",
    "#     for msg in track:\n",
    "        "
   ]
  },
  {
   "cell_type": "code",
   "execution_count": 5,
   "id": "97f5919d",
   "metadata": {},
   "outputs": [
    {
     "name": "stdout",
     "output_type": "stream",
     "text": [
      "MetaMessage('set_tempo', tempo=722892, time=0)\n",
      "MetaMessage('time_signature', numerator=4, denominator=4, clocks_per_click=24, notated_32nd_notes_per_beat=8, time=0)\n",
      "MetaMessage('key_signature', key='C', time=0)\n",
      "MetaMessage('end_of_track', time=0)\n",
      "MetaMessage('track_name', name='untitled', time=0)\n",
      "MetaMessage('midi_port', port=0, time=0)\n",
      "MetaMessage('end_of_track', time=0)\n",
      "MetaMessage('track_name', name='TabIt MIDI - Track 1', time=0)\n",
      "MetaMessage('midi_port', port=0, time=0)\n",
      "MetaMessage('channel_prefix', channel=0, time=0)\n",
      "MetaMessage('end_of_track', time=0)\n",
      "MetaMessage('track_name', name='TabIt MIDI - Track 2', time=0)\n",
      "MetaMessage('midi_port', port=0, time=0)\n",
      "MetaMessage('channel_prefix', channel=1, time=0)\n",
      "MetaMessage('end_of_track', time=0)\n",
      "MetaMessage('track_name', name='TabIt MIDI - Track 3', time=0)\n",
      "MetaMessage('midi_port', port=0, time=0)\n",
      "MetaMessage('channel_prefix', channel=2, time=0)\n",
      "MetaMessage('end_of_track', time=0)\n",
      "MetaMessage('midi_port', port=0, time=0)\n",
      "MetaMessage('channel_prefix', channel=9, time=0)\n",
      "MetaMessage('end_of_track', time=0)\n"
     ]
    }
   ],
   "source": [
    "mid = mido.MidiFile(f'{path}/Stan.mid')\n",
    "#list(mid)[:500]\n",
    "\n",
    "meta_messages = [msg for track in mid.tracks for msg in track if msg.is_meta]\n",
    "\n",
    "# Optionally, preview a few\n",
    "for msg in meta_messages[:200]:\n",
    "    print(msg)"
   ]
  },
  {
   "cell_type": "code",
   "execution_count": 22,
   "id": "84121037",
   "metadata": {},
   "outputs": [
    {
     "name": "stdout",
     "output_type": "stream",
     "text": [
      "MetaMessage('set_tempo', tempo=500000, time=0)\n",
      "MetaMessage('time_signature', numerator=4, denominator=4, clocks_per_click=24, notated_32nd_notes_per_beat=8, time=0)\n",
      "MetaMessage('key_signature', key='C', time=0)\n",
      "MetaMessage('set_tempo', tempo=633245, time=38400)\n",
      "MetaMessage('end_of_track', time=0)\n",
      "MetaMessage('track_name', name='Acoustic Guitar', time=0)\n",
      "MetaMessage('midi_port', port=0, time=0)\n",
      "MetaMessage('channel_prefix', channel=0, time=0)\n",
      "MetaMessage('end_of_track', time=0)\n",
      "MetaMessage('track_name', name='Piano', time=0)\n",
      "MetaMessage('midi_port', port=0, time=0)\n",
      "MetaMessage('channel_prefix', channel=1, time=0)\n",
      "MetaMessage('end_of_track', time=0)\n",
      "MetaMessage('track_name', name='Whistle', time=0)\n",
      "MetaMessage('midi_port', port=0, time=0)\n",
      "MetaMessage('channel_prefix', channel=2, time=0)\n",
      "MetaMessage('end_of_track', time=0)\n",
      "MetaMessage('track_name', name='Bass!', time=0)\n",
      "MetaMessage('midi_port', port=0, time=0)\n",
      "MetaMessage('channel_prefix', channel=3, time=0)\n",
      "MetaMessage('end_of_track', time=0)\n",
      "MetaMessage('track_name', name='Reverse Cymbal', time=0)\n",
      "MetaMessage('midi_port', port=0, time=0)\n",
      "MetaMessage('channel_prefix', channel=4, time=0)\n",
      "MetaMessage('end_of_track', time=0)\n",
      "MetaMessage('track_name', name='Percussion', time=0)\n",
      "MetaMessage('midi_port', port=0, time=0)\n",
      "MetaMessage('channel_prefix', channel=9, time=0)\n",
      "MetaMessage('end_of_track', time=0)\n",
      "MetaMessage('track_name', name='Guitar', time=0)\n",
      "MetaMessage('midi_port', port=0, time=0)\n",
      "MetaMessage('channel_prefix', channel=5, time=0)\n",
      "MetaMessage('end_of_track', time=0)\n",
      "MetaMessage('track_name', name='Acoustic Guitar', time=0)\n",
      "MetaMessage('midi_port', port=0, time=0)\n",
      "MetaMessage('channel_prefix', channel=6, time=0)\n",
      "MetaMessage('end_of_track', time=0)\n",
      "MetaMessage('track_name', name='Bad Meets Evil', time=0)\n",
      "MetaMessage('midi_port', port=0, time=0)\n",
      "MetaMessage('end_of_track', time=0)\n",
      "MetaMessage('track_name', name='by Eminem', time=0)\n",
      "MetaMessage('midi_port', port=0, time=0)\n",
      "MetaMessage('end_of_track', time=0)\n",
      "MetaMessage('track_name', name='**********', time=0)\n",
      "MetaMessage('midi_port', port=0, time=0)\n",
      "MetaMessage('end_of_track', time=0)\n",
      "MetaMessage('track_name', name='www.freshmidis.com', time=0)\n",
      "MetaMessage('midi_port', port=0, time=0)\n",
      "MetaMessage('end_of_track', time=0)\n",
      "MetaMessage('track_name', name='**********', time=0)\n",
      "MetaMessage('midi_port', port=0, time=0)\n",
      "MetaMessage('end_of_track', time=0)\n",
      "MetaMessage('track_name', name='MIDIfied by DaveBulow', time=0)\n",
      "MetaMessage('midi_port', port=0, time=0)\n",
      "MetaMessage('end_of_track', time=0)\n",
      "MetaMessage('track_name', name='davebulow@email.com', time=0)\n",
      "MetaMessage('midi_port', port=0, time=0)\n",
      "MetaMessage('end_of_track', time=0)\n"
     ]
    }
   ],
   "source": [
    "mid = mido.MidiFile(f'{path}/Bad Meets Evil.mid')\n",
    "\n",
    "meta_messages = [msg for track in mid.tracks for msg in track if msg.is_meta == True]\n",
    "\n",
    "\n",
    "\n",
    "# for track in mid.tracks:\n",
    "#    print(track)\n",
    "\n",
    "for meta in meta_messages:\n",
    "   print(meta)"
   ]
  }
 ],
 "metadata": {
  "kernelspec": {
   "display_name": "base",
   "language": "python",
   "name": "python3"
  },
  "language_info": {
   "codemirror_mode": {
    "name": "ipython",
    "version": 3
   },
   "file_extension": ".py",
   "mimetype": "text/x-python",
   "name": "python",
   "nbconvert_exporter": "python",
   "pygments_lexer": "ipython3",
   "version": "3.12.9"
  }
 },
 "nbformat": 4,
 "nbformat_minor": 5
}
