{
 "cells": [
  {
   "cell_type": "code",
   "execution_count": 12,
   "id": "24b91821",
   "metadata": {},
   "outputs": [],
   "source": [
    "import numpy as np\n",
    "import matplotlib.pyplot as plt \n",
    "import pandas \n",
    "import mido\n",
    "import os\n",
    "import time\n",
    "from tqdm import tqdm\n",
    "from mido.midifiles.meta import KeySignatureError"
   ]
  },
  {
   "cell_type": "code",
   "execution_count": 2,
   "id": "4f652665",
   "metadata": {},
   "outputs": [
    {
     "name": "stdout",
     "output_type": "stream",
     "text": [
      "['PythonMIDI Bus 1']\n"
     ]
    }
   ],
   "source": [
    "print(mido.get_output_names())\n",
    "port = mido.open_output('PythonMIDI Bus 1')\n",
    "\n",
    "\n",
    "msg_on = mido.Message('note_on', note=60, velocity=100)\n",
    "msg_off = mido.Message('note_off', note=60)\n",
    "\n",
    "port.send(msg_on)\n",
    "time.sleep(1)\n",
    "port.send(msg_off)"
   ]
  },
  {
   "cell_type": "code",
   "execution_count": 14,
   "id": "52c2d766",
   "metadata": {},
   "outputs": [],
   "source": [
    "path = os.path.realpath('clean_midi/Eminem')"
   ]
  },
  {
   "cell_type": "code",
   "execution_count": 65,
   "id": "3bf1df61",
   "metadata": {},
   "outputs": [
    {
     "name": "stdout",
     "output_type": "stream",
     "text": [
      "4\n"
     ]
    }
   ],
   "source": [
    "mid = mido.MidiFile(f'{path}/Bad Meets Evil.mid')\n",
    "\n",
    "ticks_per_beat = mid.ticks_per_beat\n",
    "ticks_per_bar = None\n",
    "\n",
    "# Find time signature (if any)\n",
    "for track in mid.tracks:\n",
    "    for msg in track:\n",
    "        if msg.type == 'time_signature':\n",
    "            beats_per_bar = msg.numerator\n",
    "            print(beats_per_bar)"
   ]
  },
  {
   "cell_type": "code",
   "execution_count": null,
   "id": "6055a0ff",
   "metadata": {},
   "outputs": [],
   "source": []
  },
  {
   "cell_type": "code",
   "execution_count": 5,
   "id": "97f5919d",
   "metadata": {},
   "outputs": [
    {
     "name": "stdout",
     "output_type": "stream",
     "text": [
      "MetaMessage('set_tempo', tempo=722892, time=0)\n",
      "MetaMessage('time_signature', numerator=4, denominator=4, clocks_per_click=24, notated_32nd_notes_per_beat=8, time=0)\n",
      "MetaMessage('key_signature', key='C', time=0)\n",
      "MetaMessage('end_of_track', time=0)\n",
      "MetaMessage('track_name', name='untitled', time=0)\n",
      "MetaMessage('midi_port', port=0, time=0)\n",
      "MetaMessage('end_of_track', time=0)\n",
      "MetaMessage('track_name', name='TabIt MIDI - Track 1', time=0)\n",
      "MetaMessage('midi_port', port=0, time=0)\n",
      "MetaMessage('channel_prefix', channel=0, time=0)\n",
      "MetaMessage('end_of_track', time=0)\n",
      "MetaMessage('track_name', name='TabIt MIDI - Track 2', time=0)\n",
      "MetaMessage('midi_port', port=0, time=0)\n",
      "MetaMessage('channel_prefix', channel=1, time=0)\n",
      "MetaMessage('end_of_track', time=0)\n",
      "MetaMessage('track_name', name='TabIt MIDI - Track 3', time=0)\n",
      "MetaMessage('midi_port', port=0, time=0)\n",
      "MetaMessage('channel_prefix', channel=2, time=0)\n",
      "MetaMessage('end_of_track', time=0)\n",
      "MetaMessage('midi_port', port=0, time=0)\n",
      "MetaMessage('channel_prefix', channel=9, time=0)\n",
      "MetaMessage('end_of_track', time=0)\n"
     ]
    }
   ],
   "source": [
    "mid = mido.MidiFile(f'{path}/Stan.mid')\n",
    "#list(mid)[:500]\n",
    "\n",
    "meta_messages = [msg for track in mid.tracks for msg in track if msg.is_meta]\n",
    "\n",
    "# Optionally, preview a few\n",
    "for msg in meta_messages[:200]:\n",
    "    print(msg)"
   ]
  },
  {
   "cell_type": "code",
   "execution_count": 22,
   "id": "84121037",
   "metadata": {},
   "outputs": [
    {
     "name": "stdout",
     "output_type": "stream",
     "text": [
      "MetaMessage('set_tempo', tempo=500000, time=0)\n",
      "MetaMessage('time_signature', numerator=4, denominator=4, clocks_per_click=24, notated_32nd_notes_per_beat=8, time=0)\n",
      "MetaMessage('key_signature', key='C', time=0)\n",
      "MetaMessage('set_tempo', tempo=633245, time=38400)\n",
      "MetaMessage('end_of_track', time=0)\n",
      "MetaMessage('track_name', name='Acoustic Guitar', time=0)\n",
      "MetaMessage('midi_port', port=0, time=0)\n",
      "MetaMessage('channel_prefix', channel=0, time=0)\n",
      "MetaMessage('end_of_track', time=0)\n",
      "MetaMessage('track_name', name='Piano', time=0)\n",
      "MetaMessage('midi_port', port=0, time=0)\n",
      "MetaMessage('channel_prefix', channel=1, time=0)\n",
      "MetaMessage('end_of_track', time=0)\n",
      "MetaMessage('track_name', name='Whistle', time=0)\n",
      "MetaMessage('midi_port', port=0, time=0)\n",
      "MetaMessage('channel_prefix', channel=2, time=0)\n",
      "MetaMessage('end_of_track', time=0)\n",
      "MetaMessage('track_name', name='Bass!', time=0)\n",
      "MetaMessage('midi_port', port=0, time=0)\n",
      "MetaMessage('channel_prefix', channel=3, time=0)\n",
      "MetaMessage('end_of_track', time=0)\n",
      "MetaMessage('track_name', name='Reverse Cymbal', time=0)\n",
      "MetaMessage('midi_port', port=0, time=0)\n",
      "MetaMessage('channel_prefix', channel=4, time=0)\n",
      "MetaMessage('end_of_track', time=0)\n",
      "MetaMessage('track_name', name='Percussion', time=0)\n",
      "MetaMessage('midi_port', port=0, time=0)\n",
      "MetaMessage('channel_prefix', channel=9, time=0)\n",
      "MetaMessage('end_of_track', time=0)\n",
      "MetaMessage('track_name', name='Guitar', time=0)\n",
      "MetaMessage('midi_port', port=0, time=0)\n",
      "MetaMessage('channel_prefix', channel=5, time=0)\n",
      "MetaMessage('end_of_track', time=0)\n",
      "MetaMessage('track_name', name='Acoustic Guitar', time=0)\n",
      "MetaMessage('midi_port', port=0, time=0)\n",
      "MetaMessage('channel_prefix', channel=6, time=0)\n",
      "MetaMessage('end_of_track', time=0)\n",
      "MetaMessage('track_name', name='Bad Meets Evil', time=0)\n",
      "MetaMessage('midi_port', port=0, time=0)\n",
      "MetaMessage('end_of_track', time=0)\n",
      "MetaMessage('track_name', name='by Eminem', time=0)\n",
      "MetaMessage('midi_port', port=0, time=0)\n",
      "MetaMessage('end_of_track', time=0)\n",
      "MetaMessage('track_name', name='**********', time=0)\n",
      "MetaMessage('midi_port', port=0, time=0)\n",
      "MetaMessage('end_of_track', time=0)\n",
      "MetaMessage('track_name', name='www.freshmidis.com', time=0)\n",
      "MetaMessage('midi_port', port=0, time=0)\n",
      "MetaMessage('end_of_track', time=0)\n",
      "MetaMessage('track_name', name='**********', time=0)\n",
      "MetaMessage('midi_port', port=0, time=0)\n",
      "MetaMessage('end_of_track', time=0)\n",
      "MetaMessage('track_name', name='MIDIfied by DaveBulow', time=0)\n",
      "MetaMessage('midi_port', port=0, time=0)\n",
      "MetaMessage('end_of_track', time=0)\n",
      "MetaMessage('track_name', name='davebulow@email.com', time=0)\n",
      "MetaMessage('midi_port', port=0, time=0)\n",
      "MetaMessage('end_of_track', time=0)\n"
     ]
    }
   ],
   "source": [
    "mid = mido.MidiFile(f'{path}/Bad Meets Evil.mid')\n",
    "\n",
    "meta_messages = [msg for track in mid.tracks for msg in track if msg.is_meta == True]\n",
    "\n",
    "\n",
    "\n",
    "# for track in mid.tracks:\n",
    "#    print(track)\n",
    "\n",
    "for meta in meta_messages:\n",
    "   print(meta)"
   ]
  },
  {
   "cell_type": "code",
   "execution_count": null,
   "id": "773515cb",
   "metadata": {},
   "outputs": [],
   "source": [
    "def RecreateDatabase(input_path, output_path):\n",
    "   original = MidiFile(input_path)\n",
    "   new_midi = MidiFile(ticks_per_beat=original.ticks_per_beat)\n",
    "\n",
    "   for track in original.tracks:\n",
    "      mono_track = ToMonphonic(track)\n",
    "      new_midi.tracks.append(mono_track)\n",
    "\n",
    "   new_midi.save(output_path)"
   ]
  }
 ],
 "metadata": {
  "kernelspec": {
   "display_name": "base",
   "language": "python",
   "name": "python3"
  },
  "language_info": {
   "codemirror_mode": {
    "name": "ipython",
    "version": 3
   },
   "file_extension": ".py",
   "mimetype": "text/x-python",
   "name": "python",
   "nbconvert_exporter": "python",
   "pygments_lexer": "ipython3",
   "version": "3.12.9"
  }
 },
 "nbformat": 4,
 "nbformat_minor": 5
}
