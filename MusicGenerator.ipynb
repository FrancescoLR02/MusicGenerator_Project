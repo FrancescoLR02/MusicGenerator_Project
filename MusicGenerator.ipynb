{
 "cells": [
  {
   "cell_type": "code",
   "execution_count": 7,
   "id": "44d021b3",
   "metadata": {},
   "outputs": [
    {
     "name": "stdout",
     "output_type": "stream",
     "text": [
      "The autoreload extension is already loaded. To reload it, use:\n",
      "  %reload_ext autoreload\n"
     ]
    }
   ],
   "source": [
    "%load_ext autoreload\n",
    "%autoreload 2\n",
    "\n",
    "import numpy as np\n",
    "import matplotlib.pyplot as plt\n",
    "import pandas as pd\n",
    "\n",
    "import pickle\n",
    "from sklearn.cluster import KMeans\n",
    "from sklearn.preprocessing import StandardScaler\n",
    "import umap\n",
    "\n",
    "from Preprocessing import *\n",
    "from ExtractGenre import *"
   ]
  },
  {
   "cell_type": "markdown",
   "id": "25daceff",
   "metadata": {},
   "source": [
    "# Cleaning data\n",
    "\n",
    "Apply the functions in Preprocessing.py to clean the midi dataset. There are multiple files that are currupted. \n",
    "For this analysis we are also going to use only Midi file with a timestamp of 4/4, like in the reference paper. This filtering is done in CleaningData()"
   ]
  },
  {
   "cell_type": "code",
   "execution_count": 12,
   "id": "e3973b59",
   "metadata": {},
   "outputs": [
    {
     "name": "stderr",
     "output_type": "stream",
     "text": [
      "Cleaning Data : 100%|██████████| 2200/2200 [10:32<00:00,  3.48it/s]\n"
     ]
    }
   ],
   "source": [
    "CleaningData()"
   ]
  },
  {
   "cell_type": "markdown",
   "id": "c82aec08",
   "metadata": {},
   "source": [
    "# Preprocessing data:\n",
    "\n",
    "Firstly we reconstruct the database, transforming all the polyphonic audios into monophonic, keeping the information about the tracks in the midi file. It is done by keeping only the highest pitch from each polyphonic note."
   ]
  },
  {
   "cell_type": "code",
   "execution_count": 13,
   "id": "ad18c70e",
   "metadata": {},
   "outputs": [
    {
     "name": "stderr",
     "output_type": "stream",
     "text": [
      "Recreating Database : 100%|██████████| 2079/2079 [14:22<00:00,  2.41it/s] \n"
     ]
    }
   ],
   "source": [
    "RecreateDatabase()"
   ]
  },
  {
   "cell_type": "markdown",
   "id": "9a33b80b",
   "metadata": {},
   "source": [
    "The input of the model has to be a 128x16 matrix as in the paper. The following function clasify the midi tracks into 7 instrumental classes:\n",
    "- String\n",
    "- Keyboard\n",
    "- Aereophone\n",
    "- Percussion\n",
    "- Voice\n",
    "- Synth\n",
    "- Others"
   ]
  },
  {
   "cell_type": "code",
   "execution_count": 19,
   "id": "c03fd900",
   "metadata": {},
   "outputs": [
    {
     "name": "stderr",
     "output_type": "stream",
     "text": [
      "Preprocessing : 100%|██████████| 2077/2077 [03:46<00:00,  9.17it/s]\n"
     ]
    }
   ],
   "source": [
    "Dataset = PreProcessing()"
   ]
  },
  {
   "cell_type": "code",
   "execution_count": 3,
   "id": "2403bd1a",
   "metadata": {},
   "outputs": [
    {
     "name": "stdout",
     "output_type": "stream",
     "text": [
      "Others  17382\n",
      "Keyboard  6085\n",
      "String  14346\n",
      "Aerophone  4810\n",
      "Percussion  7348\n",
      "Voice  4412\n",
      "Sync  1277\n"
     ]
    }
   ],
   "source": [
    "# with open('Dataset.pkl', 'wb') as f:\n",
    "#    pickle.dump(Dataset, f)\n",
    "\n",
    "with open('Dataset.pkl', 'rb') as f:\n",
    "   Dataset = pickle.load(f)\n",
    "\n",
    "for key, value in Dataset.items():\n",
    "   print(key, '', len(value['Tempo']))"
   ]
  },
  {
   "cell_type": "markdown",
   "id": "175f94d1",
   "metadata": {},
   "source": [
    "# Model and Architecture"
   ]
  },
  {
   "cell_type": "code",
   "execution_count": null,
   "id": "207bdd51",
   "metadata": {},
   "outputs": [],
   "source": []
  },
  {
   "cell_type": "code",
   "execution_count": null,
   "id": "0d20d4fb",
   "metadata": {},
   "outputs": [],
   "source": []
  },
  {
   "cell_type": "code",
   "execution_count": null,
   "id": "52f2915d",
   "metadata": {},
   "outputs": [],
   "source": []
  },
  {
   "cell_type": "code",
   "execution_count": null,
   "id": "c2cbf8d4",
   "metadata": {},
   "outputs": [],
   "source": []
  },
  {
   "cell_type": "markdown",
   "id": "9afc0d12",
   "metadata": {},
   "source": [
    "# Genre Detection\n",
    "\n",
    "Music genre classification generally relies on supervised learning approaches with labeled datasets and it is usually a very difficult taks. Even wors, MIDI dataset does not holds the information about genre, transforming this into an **unsupervised learning** task where we must discover hidden patterns and group similar musical pieces without prior knowledge of their categories.\n",
    "\n",
    "We employ a feature-based clustering methodology to identify distinct musical genres within our dataset. The core strategy involves extracting meaningful musical characteristics from MIDI files and applying clustering algorithms to reveal natural groupings that correspond to different musical styles.\n",
    "\n",
    "**Whole-song analysis**: We compute global features that capture the overall characteristics of each piece, including tempo, rhythmic patterns, melodic range, and dynamic properties. These features represent what a listener perceives when hearing the complete musical work.\n",
    "\n",
    "**Track-level aggregation**: Since MIDI files contain multiple instrumental tracks, we extract features from individual tracks and then aggregate them using statistical measures (mean, maximum, standard deviation). This approach provides insights into instrumental diversity, arrangement complexity, and the interaction between different musical parts while maintaining a consistent feature vector size across songs with varying numbers of tracks.\n",
    "\n",
    "Our feature set comprises **22 carefully selected attributes** spanning multiple musical dimensions:\n",
    "\n",
    "- **Rhythmic features**: Tempo, rhythmic regularity, syncopation level, and note density\n",
    "- **Melodic features**: Pitch range, average pitch, melodic direction changes, and interval patterns  \n",
    "- **Dynamic features**: Velocity characteristics and dynamic contrast\n",
    "- **Structural features**: Song length and melodic complexity measures\n",
    "- **Instrumentation features**: Instrument family ratios and ensemble diversity metrics\n",
    "\n",
    "This comprehensive feature representation captures the essential characteristics that distinguish different musical genres, from the rhythmic complexity of jazz to the harmonic richness of classical music, enabling unsupervised algorithms to identify meaningful musical categories within our dataset.\n",
    "\n",
    "The identification of the genre of the song helps us to train specific model that can generate songs with specific characteristics"
   ]
  },
  {
   "cell_type": "code",
   "execution_count": 5,
   "id": "45fb2bc0",
   "metadata": {},
   "outputs": [
    {
     "name": "stderr",
     "output_type": "stream",
     "text": [
      "100%|██████████| 2050/2050 [04:05<00:00,  8.34it/s]"
     ]
    },
    {
     "name": "stdout",
     "output_type": "stream",
     "text": [
      "Number of Excluded songs: 7\n"
     ]
    },
    {
     "name": "stderr",
     "output_type": "stream",
     "text": [
      "\n"
     ]
    }
   ],
   "source": [
    "DatasetFeatures = Clustering()"
   ]
  },
  {
   "cell_type": "code",
   "execution_count": 15,
   "id": "fd7801cf",
   "metadata": {},
   "outputs": [
    {
     "name": "stderr",
     "output_type": "stream",
     "text": [
      "/opt/anaconda3/lib/python3.12/site-packages/sklearn/utils/deprecation.py:151: FutureWarning: 'force_all_finite' was renamed to 'ensure_all_finite' in 1.6 and will be removed in 1.8.\n",
      "  warnings.warn(\n"
     ]
    },
    {
     "data": {
      "image/png": "[encoded data removed]",
      "text/plain": [
       "<Figure size 640x480 with 1 Axes>"
      ]
     },
     "metadata": {},
     "output_type": "display_data"
    }
   ],
   "source": [
    "Scaler = StandardScaler()\n",
    "NormFeatures = Scaler.fit_transform(list(DatasetFeatures.values()))\n",
    "\n",
    "Kmeans = KMeans(n_clusters = 5, random_state=12)\n",
    "cluster = Kmeans.fit_predict(NormFeatures)\n",
    "\n",
    "reducer = umap.UMAP(n_components=2)\n",
    "features_2d = reducer.fit_transform(NormFeatures)\n",
    "\n",
    "\n",
    "plt.scatter(features_2d[:, 0], features_2d[:, 1], alpha = 0.5, c=cluster, cmap='viridis')\n",
    "plt.title('MIDI Songs Clustered by Musical Features')\n",
    "plt.show()"
   ]
  },
  {
   "cell_type": "code",
   "execution_count": 17,
   "id": "8fc8704a",
   "metadata": {},
   "outputs": [
    {
     "data": {
      "text/html": [
       "<div>\n",
       "<style scoped>\n",
       "    .dataframe tbody tr th:only-of-type {\n",
       "        vertical-align: middle;\n",
       "    }\n",
       "\n",
       "    .dataframe tbody tr th {\n",
       "        vertical-align: top;\n",
       "    }\n",
       "\n",
       "    .dataframe thead th {\n",
       "        text-align: right;\n",
       "    }\n",
       "</style>\n",
       "<table border=\"1\" class=\"dataframe\">\n",
       "  <thead>\n",
       "    <tr style=\"text-align: right;\">\n",
       "      <th></th>\n",
       "      <th>Song name</th>\n",
       "      <th>Features</th>\n",
       "      <th>Cluster</th>\n",
       "    </tr>\n",
       "  </thead>\n",
       "  <tbody>\n",
       "    <tr>\n",
       "      <th>0</th>\n",
       "      <td>The Smashing Pumpkins/Thirty-Three.1.mid</td>\n",
       "      <td>[126, 0.001441043428923195, 0.6835375599360682...</td>\n",
       "      <td>4</td>\n",
       "    </tr>\n",
       "    <tr>\n",
       "      <th>1</th>\n",
       "      <td>The Smashing Pumpkins/Tonight, Tonight.mid</td>\n",
       "      <td>[142, 0.0007193061988471649, 0.676491994177583...</td>\n",
       "      <td>4</td>\n",
       "    </tr>\n",
       "    <tr>\n",
       "      <th>2</th>\n",
       "      <td>The Smashing Pumpkins/Tonight, Tonight.1.mid</td>\n",
       "      <td>[142, 0.008674070354537475, 0.5568475452196382...</td>\n",
       "      <td>0</td>\n",
       "    </tr>\n",
       "    <tr>\n",
       "      <th>3</th>\n",
       "      <td>The Smashing Pumpkins/Tonight, Tonight.2.mid</td>\n",
       "      <td>[142, 0.002871029347767895, 0.6764919941775837...</td>\n",
       "      <td>3</td>\n",
       "    </tr>\n",
       "    <tr>\n",
       "      <th>4</th>\n",
       "      <td>The Smashing Pumpkins/Disarm.1.mid</td>\n",
       "      <td>[130, 0.005310146705468056, 0.5031055900621118...</td>\n",
       "      <td>3</td>\n",
       "    </tr>\n",
       "    <tr>\n",
       "      <th>...</th>\n",
       "      <td>...</td>\n",
       "      <td>...</td>\n",
       "      <td>...</td>\n",
       "    </tr>\n",
       "    <tr>\n",
       "      <th>11633</th>\n",
       "      <td>Tool/Sober.mid</td>\n",
       "      <td>[156, 0.0011833146562528088, 0.382543103448275...</td>\n",
       "      <td>4</td>\n",
       "    </tr>\n",
       "    <tr>\n",
       "      <th>11634</th>\n",
       "      <td>Tool/Intolerance.mid</td>\n",
       "      <td>[194, 0.0006441368879858763, 0.658475894245723...</td>\n",
       "      <td>4</td>\n",
       "    </tr>\n",
       "    <tr>\n",
       "      <th>11635</th>\n",
       "      <td>Randy Crawford/Diamante.mid</td>\n",
       "      <td>[120, 0.005642584228633196, 0.5714285714285714...</td>\n",
       "      <td>0</td>\n",
       "    </tr>\n",
       "    <tr>\n",
       "      <th>11636</th>\n",
       "      <td>Randy Crawford/One Day I'll Fly Away.1.mid</td>\n",
       "      <td>[79, 0.006562922594618446, 0.6823529411764706,...</td>\n",
       "      <td>0</td>\n",
       "    </tr>\n",
       "    <tr>\n",
       "      <th>11637</th>\n",
       "      <td>Randy Crawford/One Day I'll Fly Away.4.mid</td>\n",
       "      <td>[77, 0.0003396427710512963, 0.8222811671087533...</td>\n",
       "      <td>1</td>\n",
       "    </tr>\n",
       "  </tbody>\n",
       "</table>\n",
       "<p>11638 rows × 3 columns</p>\n",
       "</div>"
      ],
      "text/plain": [
       "                                          Song name  \\\n",
       "0          The Smashing Pumpkins/Thirty-Three.1.mid   \n",
       "1        The Smashing Pumpkins/Tonight, Tonight.mid   \n",
       "2      The Smashing Pumpkins/Tonight, Tonight.1.mid   \n",
       "3      The Smashing Pumpkins/Tonight, Tonight.2.mid   \n",
       "4                The Smashing Pumpkins/Disarm.1.mid   \n",
       "...                                             ...   \n",
       "11633                                Tool/Sober.mid   \n",
       "11634                          Tool/Intolerance.mid   \n",
       "11635                   Randy Crawford/Diamante.mid   \n",
       "11636    Randy Crawford/One Day I'll Fly Away.1.mid   \n",
       "11637    Randy Crawford/One Day I'll Fly Away.4.mid   \n",
       "\n",
       "                                                Features  Cluster  \n",
       "0      [126, 0.001441043428923195, 0.6835375599360682...        4  \n",
       "1      [142, 0.0007193061988471649, 0.676491994177583...        4  \n",
       "2      [142, 0.008674070354537475, 0.5568475452196382...        0  \n",
       "3      [142, 0.002871029347767895, 0.6764919941775837...        3  \n",
       "4      [130, 0.005310146705468056, 0.5031055900621118...        3  \n",
       "...                                                  ...      ...  \n",
       "11633  [156, 0.0011833146562528088, 0.382543103448275...        4  \n",
       "11634  [194, 0.0006441368879858763, 0.658475894245723...        4  \n",
       "11635  [120, 0.005642584228633196, 0.5714285714285714...        0  \n",
       "11636  [79, 0.006562922594618446, 0.6823529411764706,...        0  \n",
       "11637  [77, 0.0003396427710512963, 0.8222811671087533...        1  \n",
       "\n",
       "[11638 rows x 3 columns]"
      ]
     },
     "execution_count": 17,
     "metadata": {},
     "output_type": "execute_result"
    }
   ],
   "source": [
    "ClusteringDataframe = pd.DataFrame([{'Song name': k, 'Features': v} for k, v in DatasetFeatures.items()])\n",
    "ClusteringDataframe['Cluster'] = cluster\n",
    "ClusteringDataframe"
   ]
  },
  {
   "cell_type": "code",
   "execution_count": null,
   "id": "df6e3678",
   "metadata": {},
   "outputs": [],
   "source": []
  }
 ],
 "metadata": {
  "kernelspec": {
   "display_name": "base",
   "language": "python",
   "name": "python3"
  },
  "language_info": {
   "codemirror_mode": {
    "name": "ipython",
    "version": 3
   },
   "file_extension": ".py",
   "mimetype": "text/x-python",
   "name": "python",
   "nbconvert_exporter": "python",
   "pygments_lexer": "ipython3",
   "version": "3.12.9"
  }
 },
 "nbformat": 4,
 "nbformat_minor": 5
}
