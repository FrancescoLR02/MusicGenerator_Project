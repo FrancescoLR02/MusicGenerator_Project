{
 "cells": [
  {
   "cell_type": "code",
   "execution_count": 2,
   "id": "44d021b3",
   "metadata": {},
   "outputs": [],
   "source": [
    "%load_ext autoreload\n",
    "%autoreload 2\n",
    "\n",
    "import numpy as np\n",
    "import matplotlib.pyplot as plt\n",
    "import pandas as pd\n",
    "import pickle\n",
    "\n",
    "\n",
    "import torch\n",
    "from torch.utils.data import DataLoader, Dataset\n",
    "\n",
    "\n",
    "from sklearn.cluster import KMeans\n",
    "from sklearn.preprocessing import StandardScaler\n",
    "import umap\n",
    "\n",
    "from Preprocessing import *\n",
    "from ExtractGenre import *\n",
    "from CNN_ExtractGenre import *\n",
    "\n",
    "import DatasetLoader as DL\n",
    "import Model as M"
   ]
  },
  {
   "cell_type": "markdown",
   "id": "25daceff",
   "metadata": {},
   "source": [
    "# Cleaning data\n",
    "\n",
    "Apply the functions in Preprocessing.py to clean the midi dataset. There are multiple files that are currupted. \n",
    "For this analysis we are also going to use only Midi file with a timestamp of 4/4, like in the reference paper. This filtering is done in CleaningData()"
   ]
  },
  {
   "cell_type": "code",
   "execution_count": 12,
   "id": "e3973b59",
   "metadata": {},
   "outputs": [
    {
     "name": "stderr",
     "output_type": "stream",
     "text": [
      "Cleaning Data : 100%|██████████| 2200/2200 [10:32<00:00,  3.48it/s]\n"
     ]
    }
   ],
   "source": [
    "CleaningData()"
   ]
  },
  {
   "cell_type": "markdown",
   "id": "c82aec08",
   "metadata": {},
   "source": [
    "# Preprocessing data:\n",
    "\n",
    "Firstly we reconstruct the database, transforming all the polyphonic audios into monophonic, keeping the information about the tracks in the midi file. It is done by keeping only the highest pitch from each polyphonic note."
   ]
  },
  {
   "cell_type": "code",
   "execution_count": 13,
   "id": "ad18c70e",
   "metadata": {},
   "outputs": [
    {
     "name": "stderr",
     "output_type": "stream",
     "text": [
      "Recreating Database : 100%|██████████| 2079/2079 [14:22<00:00,  2.41it/s] \n"
     ]
    }
   ],
   "source": [
    "RecreateDatabase()"
   ]
  },
  {
   "cell_type": "markdown",
   "id": "9a33b80b",
   "metadata": {},
   "source": [
    "The input of the model has to be a 128x16 matrix as in the paper. The following function clasify the midi tracks into 7 instrumental classes:\n",
    "- String\n",
    "- Keyboard\n",
    "- Aereophone\n",
    "- Percussion\n",
    "- Voice\n",
    "- Synth\n",
    "- Others"
   ]
  },
  {
   "cell_type": "code",
   "execution_count": 3,
   "id": "c03fd900",
   "metadata": {},
   "outputs": [
    {
     "name": "stderr",
     "output_type": "stream",
     "text": [
      "Preprocessing: 100%|██████████| 1000/1000 [01:20<00:00, 12.35it/s]\n"
     ]
    }
   ],
   "source": [
    "Dataset = PreProcessing(nDir = 1000)"
   ]
  },
  {
   "cell_type": "code",
   "execution_count": null,
   "id": "2403bd1a",
   "metadata": {},
   "outputs": [],
   "source": [
    "# with open('Dataset.pkl', 'wb') as f:\n",
    "#    pickle.dump(Dataset, f)\n",
    "\n",
    "with open('Dataset.pkl', 'rb') as f:\n",
    "   Dataset = pickle.load(f)\n",
    "\n",
    "for key, value in Dataset.items():\n",
    "   print(key, '', len(value['Tempo']))"
   ]
  },
  {
   "cell_type": "markdown",
   "id": "9afc0d12",
   "metadata": {},
   "source": [
    "# Genre Detection\n",
    "\n",
    "Music genre classification generally relies on supervised learning approaches with labeled datasets and it is usually a very difficult taks. Even wors, MIDI dataset does not holds the information about genre, transforming this into an **unsupervised learning** task where we must discover hidden patterns and group similar musical pieces without prior knowledge of their categories.\n",
    "\n",
    "We employ a feature-based clustering methodology to identify distinct musical genres within our dataset. The core strategy involves extracting meaningful musical characteristics from MIDI files and applying clustering algorithms to reveal natural groupings that correspond to different musical styles.\n",
    "\n",
    "**Whole-song analysis**: We compute global features that capture the overall characteristics of each piece, including tempo, rhythmic patterns, melodic range, and dynamic properties. These features represent what a listener perceives when hearing the complete musical work.\n",
    "\n",
    "**Track-level aggregation**: Since MIDI files contain multiple instrumental tracks, we extract features from individual tracks and then aggregate them using statistical measures (mean, maximum, standard deviation). This approach provides insights into instrumental diversity, arrangement complexity, and the interaction between different musical parts while maintaining a consistent feature vector size across songs with varying numbers of tracks.\n",
    "\n",
    "Our feature set comprises **22 carefully selected attributes** spanning multiple musical dimensions:\n",
    "\n",
    "- **Rhythmic features**: Tempo, rhythmic regularity, syncopation level, and note density\n",
    "- **Melodic features**: Pitch range, average pitch, melodic direction changes, and interval patterns  \n",
    "- **Dynamic features**: Velocity characteristics and dynamic contrast\n",
    "- **Structural features**: Song length and melodic complexity measures\n",
    "- **Instrumentation features**: Instrument family ratios and ensemble diversity metrics\n",
    "\n",
    "This comprehensive feature representation captures the essential characteristics that distinguish different musical genres, from the rhythmic complexity of jazz to the harmonic richness of classical music, enabling unsupervised algorithms to identify meaningful musical categories within our dataset.\n",
    "\n",
    "The identification of the genre of the song helps us to train specific model that can generate songs with specific characteristics"
   ]
  },
  {
   "cell_type": "code",
   "execution_count": 5,
   "id": "45fb2bc0",
   "metadata": {},
   "outputs": [
    {
     "name": "stderr",
     "output_type": "stream",
     "text": [
      "100%|██████████| 2050/2050 [04:11<00:00,  8.14it/s]"
     ]
    },
    {
     "name": "stdout",
     "output_type": "stream",
     "text": [
      "Number of Excluded songs: 7\n"
     ]
    },
    {
     "name": "stderr",
     "output_type": "stream",
     "text": [
      "\n"
     ]
    }
   ],
   "source": [
    "Features = Clustering()"
   ]
  },
  {
   "cell_type": "code",
   "execution_count": 2,
   "id": "c1b099e5",
   "metadata": {},
   "outputs": [],
   "source": [
    "# with open('Features.pkl', 'wb') as f:\n",
    "#    pickle.dump(Features, f)\n",
    "\n",
    "with open('Features.pkl', 'rb') as f:\n",
    "   Features = pickle.load(f)"
   ]
  },
  {
   "cell_type": "code",
   "execution_count": 3,
   "id": "fd7801cf",
   "metadata": {},
   "outputs": [
    {
     "name": "stderr",
     "output_type": "stream",
     "text": [
      "/opt/anaconda3/lib/python3.12/site-packages/sklearn/utils/deprecation.py:151: FutureWarning: 'force_all_finite' was renamed to 'ensure_all_finite' in 1.6 and will be removed in 1.8.\n",
      "  warnings.warn(\n",
      "/opt/anaconda3/lib/python3.12/site-packages/umap/umap_.py:1952: UserWarning: n_jobs value 1 overridden to 1 by setting random_state. Use no seed for parallelism.\n",
      "  warn(\n"
     ]
    },
    {
     "data": {
      "image/png": "[encoded data removed]",
      "text/plain": [
       "<Figure size 640x480 with 1 Axes>"
      ]
     },
     "metadata": {},
     "output_type": "display_data"
    }
   ],
   "source": [
    "np.random.seed(50)\n",
    "\n",
    "Scaler = StandardScaler()\n",
    "NormFeatures = Scaler.fit_transform(list(Features.values()))\n",
    "\n",
    "Kmeans = KMeans(n_clusters = 5, random_state=13)\n",
    "clusters = Kmeans.fit_predict(NormFeatures)\n",
    "\n",
    "reducer = umap.UMAP(n_components=2, random_state=42)\n",
    "features_2d = reducer.fit_transform(NormFeatures)\n",
    "\n",
    "\n",
    "plt.scatter(features_2d[:, 0], features_2d[:, 1], alpha = 0.5, c=clusters, cmap='viridis')\n",
    "plt.title('MIDI Songs Clustered by Musical Features')\n",
    "plt.show()"
   ]
  },
  {
   "cell_type": "code",
   "execution_count": 4,
   "id": "8fc8704a",
   "metadata": {},
   "outputs": [
    {
     "data": {
      "text/html": [
       "<div>\n",
       "<style scoped>\n",
       "    .dataframe tbody tr th:only-of-type {\n",
       "        vertical-align: middle;\n",
       "    }\n",
       "\n",
       "    .dataframe tbody tr th {\n",
       "        vertical-align: top;\n",
       "    }\n",
       "\n",
       "    .dataframe thead th {\n",
       "        text-align: right;\n",
       "    }\n",
       "</style>\n",
       "<table border=\"1\" class=\"dataframe\">\n",
       "  <thead>\n",
       "    <tr style=\"text-align: right;\">\n",
       "      <th></th>\n",
       "      <th>Song name</th>\n",
       "      <th>Features</th>\n",
       "      <th>Cluster</th>\n",
       "    </tr>\n",
       "  </thead>\n",
       "  <tbody>\n",
       "    <tr>\n",
       "      <th>0</th>\n",
       "      <td>Mel Carter/Band of Gold.mid</td>\n",
       "      <td>[120, 0.007257802781121189, 0.6923076923076923...</td>\n",
       "      <td>3</td>\n",
       "    </tr>\n",
       "    <tr>\n",
       "      <th>1</th>\n",
       "      <td>Romina Power Al Bano/Sempre sempre.mid</td>\n",
       "      <td>[121, 0.0005705919397250998, 0.716674407803065...</td>\n",
       "      <td>4</td>\n",
       "    </tr>\n",
       "    <tr>\n",
       "      <th>2</th>\n",
       "      <td>Romina Power Al Bano/Sha-e-o.mid</td>\n",
       "      <td>[120, 0.0004483430644372761, 0.765859766277128...</td>\n",
       "      <td>4</td>\n",
       "    </tr>\n",
       "    <tr>\n",
       "      <th>3</th>\n",
       "      <td>Romina Power Al Bano/Domani, domani.mid</td>\n",
       "      <td>[120, 0.007236628447971674, 0.6214285714285714...</td>\n",
       "      <td>3</td>\n",
       "    </tr>\n",
       "    <tr>\n",
       "      <th>4</th>\n",
       "      <td>Romina Power Al Bano/Felicita.1.mid</td>\n",
       "      <td>[108, 0.00032781528784771953, 0.76200873362445...</td>\n",
       "      <td>4</td>\n",
       "    </tr>\n",
       "    <tr>\n",
       "      <th>...</th>\n",
       "      <td>...</td>\n",
       "      <td>...</td>\n",
       "      <td>...</td>\n",
       "    </tr>\n",
       "    <tr>\n",
       "      <th>11682</th>\n",
       "      <td>Thelma Houston/Don't Leave Me This Way.mid</td>\n",
       "      <td>[120, 0.0003313859561314369, 0.834284355682358...</td>\n",
       "      <td>2</td>\n",
       "    </tr>\n",
       "    <tr>\n",
       "      <th>11683</th>\n",
       "      <td>Hawkins Erskine/Tuxedo Junction.mid</td>\n",
       "      <td>[114, 0.026550282576501025, 0.4519670631290027...</td>\n",
       "      <td>3</td>\n",
       "    </tr>\n",
       "    <tr>\n",
       "      <th>11684</th>\n",
       "      <td>The Left Banke/Walk Away Renee.mid</td>\n",
       "      <td>[120, 0.0005866290338205514, 0.654126213592233...</td>\n",
       "      <td>1</td>\n",
       "    </tr>\n",
       "    <tr>\n",
       "      <th>11685</th>\n",
       "      <td>Fortunes/Here Comes That Rainy Day Feeling Aga...</td>\n",
       "      <td>[122, 0.0018174121448792696, 0.586016762240847...</td>\n",
       "      <td>2</td>\n",
       "    </tr>\n",
       "    <tr>\n",
       "      <th>11686</th>\n",
       "      <td>Fortunes/You've Got Your Troubles.mid</td>\n",
       "      <td>[130, 0.00015114652968993157, 0.66440271673991...</td>\n",
       "      <td>4</td>\n",
       "    </tr>\n",
       "  </tbody>\n",
       "</table>\n",
       "<p>11687 rows × 3 columns</p>\n",
       "</div>"
      ],
      "text/plain": [
       "                                               Song name  \\\n",
       "0                            Mel Carter/Band of Gold.mid   \n",
       "1                 Romina Power Al Bano/Sempre sempre.mid   \n",
       "2                       Romina Power Al Bano/Sha-e-o.mid   \n",
       "3                Romina Power Al Bano/Domani, domani.mid   \n",
       "4                    Romina Power Al Bano/Felicita.1.mid   \n",
       "...                                                  ...   \n",
       "11682         Thelma Houston/Don't Leave Me This Way.mid   \n",
       "11683                Hawkins Erskine/Tuxedo Junction.mid   \n",
       "11684                 The Left Banke/Walk Away Renee.mid   \n",
       "11685  Fortunes/Here Comes That Rainy Day Feeling Aga...   \n",
       "11686              Fortunes/You've Got Your Troubles.mid   \n",
       "\n",
       "                                                Features  Cluster  \n",
       "0      [120, 0.007257802781121189, 0.6923076923076923...        3  \n",
       "1      [121, 0.0005705919397250998, 0.716674407803065...        4  \n",
       "2      [120, 0.0004483430644372761, 0.765859766277128...        4  \n",
       "3      [120, 0.007236628447971674, 0.6214285714285714...        3  \n",
       "4      [108, 0.00032781528784771953, 0.76200873362445...        4  \n",
       "...                                                  ...      ...  \n",
       "11682  [120, 0.0003313859561314369, 0.834284355682358...        2  \n",
       "11683  [114, 0.026550282576501025, 0.4519670631290027...        3  \n",
       "11684  [120, 0.0005866290338205514, 0.654126213592233...        1  \n",
       "11685  [122, 0.0018174121448792696, 0.586016762240847...        2  \n",
       "11686  [130, 0.00015114652968993157, 0.66440271673991...        4  \n",
       "\n",
       "[11687 rows x 3 columns]"
      ]
     },
     "execution_count": 4,
     "metadata": {},
     "output_type": "execute_result"
    }
   ],
   "source": [
    "ClusteringDF = pd.DataFrame([{'Song name': k, 'Features': v} for k, v in Features.items()])\n",
    "ClusteringDF['Cluster'] = clusters\n",
    "ClusteringDF"
   ]
  },
  {
   "cell_type": "markdown",
   "id": "f0fd9bed",
   "metadata": {},
   "source": [
    "As we can see, in the same cluster there are usually the songs belonging to the same artist, meaning the clustering algorithm seems to work at least fine"
   ]
  },
  {
   "cell_type": "code",
   "execution_count": 5,
   "id": "39677539",
   "metadata": {},
   "outputs": [
    {
     "data": {
      "text/html": [
       "<div>\n",
       "<style scoped>\n",
       "    .dataframe tbody tr th:only-of-type {\n",
       "        vertical-align: middle;\n",
       "    }\n",
       "\n",
       "    .dataframe tbody tr th {\n",
       "        vertical-align: top;\n",
       "    }\n",
       "\n",
       "    .dataframe thead th {\n",
       "        text-align: right;\n",
       "    }\n",
       "</style>\n",
       "<table border=\"1\" class=\"dataframe\">\n",
       "  <thead>\n",
       "    <tr style=\"text-align: right;\">\n",
       "      <th></th>\n",
       "      <th>Song name</th>\n",
       "      <th>Features</th>\n",
       "      <th>Cluster</th>\n",
       "    </tr>\n",
       "  </thead>\n",
       "  <tbody>\n",
       "    <tr>\n",
       "      <th>9</th>\n",
       "      <td>Pantera/Cowboys From Hell.mid</td>\n",
       "      <td>[116, 0.0003622562165785167, 0.756279577721150...</td>\n",
       "      <td>1</td>\n",
       "    </tr>\n",
       "    <tr>\n",
       "      <th>11</th>\n",
       "      <td>Pantera/Planet Caravan.mid</td>\n",
       "      <td>[86, 0.001030952470203046, 0.7273759939416887,...</td>\n",
       "      <td>1</td>\n",
       "    </tr>\n",
       "    <tr>\n",
       "      <th>13</th>\n",
       "      <td>Pantera/Mouth for War.mid</td>\n",
       "      <td>[304, 0.004176452972460148, 0.7522433792952506...</td>\n",
       "      <td>1</td>\n",
       "    </tr>\n",
       "    <tr>\n",
       "      <th>14</th>\n",
       "      <td>Fiorello/San Martino.mid</td>\n",
       "      <td>[128, 0.0002753194831056295, 0.834344279439447...</td>\n",
       "      <td>1</td>\n",
       "    </tr>\n",
       "    <tr>\n",
       "      <th>15</th>\n",
       "      <td>Fiorello/Spiagge.mid</td>\n",
       "      <td>[123, 0.0002599501437034195, 0.802706443180070...</td>\n",
       "      <td>1</td>\n",
       "    </tr>\n",
       "    <tr>\n",
       "      <th>...</th>\n",
       "      <td>...</td>\n",
       "      <td>...</td>\n",
       "      <td>...</td>\n",
       "    </tr>\n",
       "    <tr>\n",
       "      <th>11652</th>\n",
       "      <td>Sergio Franchi/Mala femmena.mid</td>\n",
       "      <td>[107, 0.002167753252360192, 0.6649794368870611...</td>\n",
       "      <td>1</td>\n",
       "    </tr>\n",
       "    <tr>\n",
       "      <th>11653</th>\n",
       "      <td>Sergio Franchi/Anema e core.mid</td>\n",
       "      <td>[105, 0.0029658489843297532, 0.749161636485580...</td>\n",
       "      <td>1</td>\n",
       "    </tr>\n",
       "    <tr>\n",
       "      <th>11671</th>\n",
       "      <td>Oscar Peterson/I Want to Be Happy.mid</td>\n",
       "      <td>[190, 0.004637171546370977, 0.8880767473732298...</td>\n",
       "      <td>1</td>\n",
       "    </tr>\n",
       "    <tr>\n",
       "      <th>11675</th>\n",
       "      <td>Oscar Peterson/When Your Lover Has Gone.mid</td>\n",
       "      <td>[120, 0.0005249620416690875, 0.797546012269938...</td>\n",
       "      <td>1</td>\n",
       "    </tr>\n",
       "    <tr>\n",
       "      <th>11684</th>\n",
       "      <td>The Left Banke/Walk Away Renee.mid</td>\n",
       "      <td>[120, 0.0005866290338205514, 0.654126213592233...</td>\n",
       "      <td>1</td>\n",
       "    </tr>\n",
       "  </tbody>\n",
       "</table>\n",
       "<p>3176 rows × 3 columns</p>\n",
       "</div>"
      ],
      "text/plain": [
       "                                         Song name  \\\n",
       "9                    Pantera/Cowboys From Hell.mid   \n",
       "11                      Pantera/Planet Caravan.mid   \n",
       "13                       Pantera/Mouth for War.mid   \n",
       "14                        Fiorello/San Martino.mid   \n",
       "15                            Fiorello/Spiagge.mid   \n",
       "...                                            ...   \n",
       "11652              Sergio Franchi/Mala femmena.mid   \n",
       "11653              Sergio Franchi/Anema e core.mid   \n",
       "11671        Oscar Peterson/I Want to Be Happy.mid   \n",
       "11675  Oscar Peterson/When Your Lover Has Gone.mid   \n",
       "11684           The Left Banke/Walk Away Renee.mid   \n",
       "\n",
       "                                                Features  Cluster  \n",
       "9      [116, 0.0003622562165785167, 0.756279577721150...        1  \n",
       "11     [86, 0.001030952470203046, 0.7273759939416887,...        1  \n",
       "13     [304, 0.004176452972460148, 0.7522433792952506...        1  \n",
       "14     [128, 0.0002753194831056295, 0.834344279439447...        1  \n",
       "15     [123, 0.0002599501437034195, 0.802706443180070...        1  \n",
       "...                                                  ...      ...  \n",
       "11652  [107, 0.002167753252360192, 0.6649794368870611...        1  \n",
       "11653  [105, 0.0029658489843297532, 0.749161636485580...        1  \n",
       "11671  [190, 0.004637171546370977, 0.8880767473732298...        1  \n",
       "11675  [120, 0.0005249620416690875, 0.797546012269938...        1  \n",
       "11684  [120, 0.0005866290338205514, 0.654126213592233...        1  \n",
       "\n",
       "[3176 rows x 3 columns]"
      ]
     },
     "execution_count": 5,
     "metadata": {},
     "output_type": "execute_result"
    }
   ],
   "source": [
    "ClusteringDF[ClusteringDF['Cluster'] == 1]"
   ]
  },
  {
   "cell_type": "markdown",
   "id": "9533eade",
   "metadata": {},
   "source": [
    "And now we can do the same thing done in the Preprocessing function, wo subdivide, in each cluster, the macro family of instruments played in order to obtain the 128x16 matricies (bars)"
   ]
  },
  {
   "cell_type": "code",
   "execution_count": null,
   "id": "df6e3678",
   "metadata": {},
   "outputs": [
    {
     "name": "stderr",
     "output_type": "stream",
     "text": [
      "100%|██████████| 317/317 [00:02<00:00, 151.19it/s]\n",
      "100%|██████████| 3176/3176 [01:05<00:00, 48.26it/s]\n",
      "100%|██████████| 2952/2952 [01:06<00:00, 44.20it/s]\n",
      "100%|██████████| 1780/1780 [00:14<00:00, 122.38it/s]\n",
      "100%|██████████| 3462/3462 [01:31<00:00, 38.04it/s]\n"
     ]
    }
   ],
   "source": [
    "ClusterGenreDataset = GenrePrep(ClusteringDF, clusters)"
   ]
  },
  {
   "cell_type": "code",
   "execution_count": null,
   "id": "284e5402",
   "metadata": {},
   "outputs": [],
   "source": [
    "with open('ClusterGenreDataset.pkl', 'wb') as f:\n",
    "   pickle.dump(ClusterGenreDataset, f)\n",
    "\n",
    "# with open('ClusterGenreDataset.pkl', 'rb') as f:\n",
    "#    ClusterGenreDataset = pickle.load(f)"
   ]
  },
  {
   "cell_type": "markdown",
   "id": "2124e981",
   "metadata": {},
   "source": [
    "As we can see the first cluster is the less populated one; analyzing the main instruments family inside it we can see there is only \"Keyboard\" instruments! Meaning the clustering algorithm has been able to recognize and clusterize this genre from the other. Unfortunatly there are too few bars to train the MidiNet"
   ]
  },
  {
   "cell_type": "code",
   "execution_count": null,
   "id": "2056db49",
   "metadata": {},
   "outputs": [
    {
     "data": {
      "text/plain": [
       "(293, 128, 16)"
      ]
     },
     "execution_count": 10,
     "metadata": {},
     "output_type": "execute_result"
    }
   ],
   "source": [
    "#Only family present is Keyboard\n",
    "np.shape(ClusterGenreDataset[0]['Keyboard']['Bars'])"
   ]
  },
  {
   "cell_type": "code",
   "execution_count": null,
   "id": "e250beda",
   "metadata": {},
   "outputs": [
    {
     "data": {
      "text/plain": [
       "(5937, 128, 16)"
      ]
     },
     "execution_count": 11,
     "metadata": {},
     "output_type": "execute_result"
    }
   ],
   "source": [
    "#In the cluster 1 there are almost 6000 bars os \"String\" instruments\n",
    "np.shape(ClusterGenreDataset[1]['String']['Bars'])"
   ]
  },
  {
   "cell_type": "markdown",
   "id": "6e4e93f5",
   "metadata": {},
   "source": [
    "Clustering might be a good solution, but for a challenging task like genre recognition, it may not be enough. The idea, therefore, is to train a Convolutional Neural Network (CNN) to understand the structure of the songs and to implement a classifier capable of identifying the genre of each song in our MIDI dataset.\n",
    "\n",
    "However, we cannot train the CNN directly on our MIDI dataset, since this would compromise both learning and classification. Moreover, CNNs are supervised learning models, and our dataset does not include genre labels. For this reason, we found another dataset containing 100 songs in .wav format for each of the following musical genres:\n",
    "\n",
    "- metal\n",
    "- disco\n",
    "- classical\n",
    "- hiphop\n",
    "- jazz\n",
    "- country\n",
    "- pop\n",
    "- blues \n",
    "- raggae \n",
    "- rock\n",
    "\n",
    "The idea is to train the CNN using this labeled dataset. Before doing that, we need to perform some preprocessing, since some songs in the dataset are corrupted. Additionally, the audio clips are only a few seconds long, so we preprocess each song to have a fixed length and a consistent format. The preprocessing functions are implemented in the file **CNN_ExtractGenre.py**.\n",
    "\n",
    "After preprocessing, we define the CNN model and the data loader in **Model.py** and **DataLoader.py**, respectively. The model is trained on Google Colab (not on the local machine), and we later load the trained model using its state_dict.\n",
    "\n",
    "The CNN achieves a strong validation accuracy of 84%, as shown in the accompanying paper.\n",
    "\n",
    "Once the model is trained on the labeled dataset, we use it to classify our own songs. This is a complex process because our songs are in .mid format, while the model expects .wav spectrograms as input. Therefore, each MIDI file must be converted into audio, transformed into a spectrogram, and then classified by the CNN.\n",
    "\n",
    "After classifying each song, we save a file containing the song’s name and its predicted genre. From there, we proceed as before: we separate our dataset by genre, and within each genre, we further separate the songs by instrument.\n",
    "\n",
    "\n",
    "N.B. all the function in the file **CNN_ExtractGenre** has already been runned since the computation is quite long. In the following cell we are showing the final result"
   ]
  },
  {
   "cell_type": "code",
   "execution_count": null,
   "id": "c30a7966",
   "metadata": {},
   "outputs": [
    {
     "data": {
      "text/plain": [
       "(6495, 128, 16)"
      ]
     },
     "execution_count": 4,
     "metadata": {},
     "output_type": "execute_result"
    }
   ],
   "source": [
    "#Load the preprocessed and classified dataset:\n",
    "with open('CNN_GenreDataset.pkl', 'rb') as f:\n",
    "   CNN_GenreDataset = pickle.load(f)\n",
    "\n",
    "#Mapping each genre into a number for classification\n",
    "GenreMapping = {'metal': 0, 'disco': 1, 'classical': 2, 'hiphop': 3, 'jazz': 4,\n",
    "          'country': 5, 'pop': 6, 'blues': 7, 'reggae': 8, 'rock': 9}\n",
    "\n",
    "\n",
    "#Visualizing the shape of the dataset bars for rock songs, with string instrument \n",
    "np.shape(CNN_GenreDataset[9]['String']['Bars'])"
   ]
  },
  {
   "cell_type": "markdown",
   "id": "e7f0e127",
   "metadata": {},
   "source": [
    "We now have three datasets available to train the MidiNet model:\n",
    "1. Instrument-Only Dataset\n",
    "This is the simplest version, where each song is categorized solely based on the instrument(s) played.\n",
    "2.\tClustering-Based Genre Dataset\n",
    "In this version, songs are first grouped by genre using clustering techniques, based on simple extracted features. Within each genre cluster, the songs are further categorized by instrument.\n",
    "3. CNN-Based Genre Dataset\n",
    "This version uses a Convolutional Neural Network (CNN) to classify each original song in the dataset by genre. Once a genre label is assigned, each song is then placed into its corresponding genre category and further divided by instrument."
   ]
  },
  {
   "cell_type": "code",
   "execution_count": null,
   "id": "3ecb3493",
   "metadata": {},
   "outputs": [],
   "source": []
  },
  {
   "cell_type": "code",
   "execution_count": null,
   "id": "f3afd910",
   "metadata": {},
   "outputs": [],
   "source": []
  },
  {
   "cell_type": "code",
   "execution_count": null,
   "id": "56b133b8",
   "metadata": {},
   "outputs": [],
   "source": []
  },
  {
   "cell_type": "code",
   "execution_count": null,
   "id": "d3ca5212",
   "metadata": {},
   "outputs": [],
   "source": []
  },
  {
   "cell_type": "markdown",
   "id": "e2563528",
   "metadata": {},
   "source": [
    "# Model and Architecture\n",
    "\n",
    "The class DatasetTransorm allow us to choose which intrument's bars to load. We can load from the simple dataset (1) or from (2) or (3), specifying the genre and the instrument's bar"
   ]
  },
  {
   "cell_type": "code",
   "execution_count": null,
   "id": "d1cce35f",
   "metadata": {},
   "outputs": [],
   "source": [
    "#We are selecting the data from the (3) dataset, rocks song played with string instruments\n",
    "Data = DL.DatasetTransform(Genre = True, CNN = True, Cluster = 9, Instrument='String')\n",
    "trainData = DataLoader(Data, batch_size=10, shuffle=True, num_workers=0)"
   ]
  }
 ],
 "metadata": {
  "kernelspec": {
   "display_name": "base",
   "language": "python",
   "name": "python3"
  },
  "language_info": {
   "codemirror_mode": {
    "name": "ipython",
    "version": 3
   },
   "file_extension": ".py",
   "mimetype": "text/x-python",
   "name": "python",
   "nbconvert_exporter": "python",
   "pygments_lexer": "ipython3",
   "version": "3.12.9"
  }
 },
 "nbformat": 4,
 "nbformat_minor": 5
}
