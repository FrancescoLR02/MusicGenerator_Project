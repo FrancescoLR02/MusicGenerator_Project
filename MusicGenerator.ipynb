{
 "cells": [
  {
   "cell_type": "code",
   "execution_count": null,
   "id": "c9654e73",
   "metadata": {},
   "outputs": [],
   "source": [
    "#test\n",
    "\n",
    "#test"
   ]
  }
 ],
 "metadata": {
  "language_info": {
   "name": "python"
  }
 },
 "nbformat": 4,
 "nbformat_minor": 5
}
