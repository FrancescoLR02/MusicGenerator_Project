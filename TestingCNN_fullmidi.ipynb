{
 "cells": [
  {
   "cell_type": "code",
   "execution_count": 2,
   "id": "9a872748",
   "metadata": {},
   "outputs": [
    {
     "name": "stdout",
     "output_type": "stream",
     "text": [
      "The autoreload extension is already loaded. To reload it, use:\n",
      "  %reload_ext autoreload\n"
     ]
    }
   ],
   "source": [
    "%load_ext autoreload\n",
    "%autoreload 2\n",
    "\n",
    "import numpy as np\n",
    "import matplotlib.pyplot as plt\n",
    "import pandas as pd\n",
    "import pickle\n",
    "\n",
    "\n",
    "import torch\n",
    "from torch.utils.data import DataLoader, Dataset\n",
    "\n",
    "\n",
    "from sklearn.cluster import KMeans\n",
    "from sklearn.preprocessing import StandardScaler\n",
    "import umap\n",
    "\n",
    "from Preprocessing import *\n",
    "from ExtractGenre import *\n",
    "\n",
    "import DatasetLoader as DL"
   ]
  },
  {
   "cell_type": "code",
   "execution_count": 3,
   "id": "9757099b",
   "metadata": {},
   "outputs": [
    {
     "name": "stderr",
     "output_type": "stream",
     "text": [
      "Cleaning Data:   6%|▌         | 1/17 [00:03<00:50,  3.15s/it]\n"
     ]
    },
    {
     "ename": "IndexError",
     "evalue": "list index out of range",
     "output_type": "error",
     "traceback": [
      "\u001b[0;31m---------------------------------------------------------------------------\u001b[0m",
      "\u001b[0;31mIndexError\u001b[0m                                Traceback (most recent call last)",
      "Cell \u001b[0;32mIn[3], line 4\u001b[0m\n\u001b[1;32m      1\u001b[0m InputPath \u001b[38;5;241m=\u001b[39m os\u001b[38;5;241m.\u001b[39mpath\u001b[38;5;241m.\u001b[39mrealpath(\u001b[38;5;124m'\u001b[39m\u001b[38;5;124mCompleteMIDI\u001b[39m\u001b[38;5;124m'\u001b[39m)\n\u001b[1;32m      2\u001b[0m LogFolder \u001b[38;5;241m=\u001b[39m os\u001b[38;5;241m.\u001b[39mpath\u001b[38;5;241m.\u001b[39mrealpath(\u001b[38;5;124m'\u001b[39m\u001b[38;5;124mCompleteMIDI_Log\u001b[39m\u001b[38;5;124m'\u001b[39m)\n\u001b[0;32m----> 4\u001b[0m CleaningData(InputPath\u001b[38;5;241m=\u001b[39mInputPath, LogFolder\u001b[38;5;241m=\u001b[39mLogFolder, FolderName\u001b[38;5;241m=\u001b[39m\u001b[38;5;124m'\u001b[39m\u001b[38;5;124mCompleteMIDI_Log\u001b[39m\u001b[38;5;124m'\u001b[39m)\n",
      "File \u001b[0;32m~/Documents/Università/PhysicsOfData/Neural Network and Deep Learning/MusicGenerator_Project/Preprocessing.py:95\u001b[0m, in \u001b[0;36mCleaningData\u001b[0;34m(InputPath, LogFolder, FolderName)\u001b[0m\n\u001b[1;32m     91\u001b[0m \u001b[38;5;28;01mfor\u001b[39;00m file \u001b[38;5;129;01min\u001b[39;00m os\u001b[38;5;241m.\u001b[39mlistdir(DirPath):\n\u001b[1;32m     92\u001b[0m    FilePath \u001b[38;5;241m=\u001b[39m os\u001b[38;5;241m.\u001b[39mpath\u001b[38;5;241m.\u001b[39mjoin(DirPath, file)\n\u001b[0;32m---> 95\u001b[0m    mid \u001b[38;5;241m=\u001b[39m Func_CorruptedFile(FilePath, file, \u001b[38;5;28mdir\u001b[39m, LogFolder) \n\u001b[1;32m     96\u001b[0m    \u001b[38;5;28;01mif\u001b[39;00m mid \u001b[38;5;129;01mis\u001b[39;00m \u001b[38;5;28;01mNone\u001b[39;00m:\n\u001b[1;32m     97\u001b[0m       \u001b[38;5;28;01mcontinue\u001b[39;00m\n",
      "File \u001b[0;32m~/Documents/Università/PhysicsOfData/Neural Network and Deep Learning/MusicGenerator_Project/Preprocessing.py:40\u001b[0m, in \u001b[0;36mFunc_CorruptedFile\u001b[0;34m(FilePath, file, dir, LogFolder)\u001b[0m\n\u001b[1;32m     37\u001b[0m \u001b[38;5;28;01mdef\u001b[39;00m \u001b[38;5;21mFunc_CorruptedFile\u001b[39m(FilePath, file, \u001b[38;5;28mdir\u001b[39m, LogFolder \u001b[38;5;241m=\u001b[39m os\u001b[38;5;241m.\u001b[39mpath\u001b[38;5;241m.\u001b[39mrealpath(\u001b[38;5;124m'\u001b[39m\u001b[38;5;124mLogFolder\u001b[39m\u001b[38;5;124m'\u001b[39m)):\n\u001b[1;32m     39\u001b[0m    \u001b[38;5;28;01mtry\u001b[39;00m :\n\u001b[0;32m---> 40\u001b[0m       mid \u001b[38;5;241m=\u001b[39m mido\u001b[38;5;241m.\u001b[39mMidiFile(FilePath)\n\u001b[1;32m     41\u001b[0m       \u001b[38;5;28;01mreturn\u001b[39;00m mid\n\u001b[1;32m     43\u001b[0m    \u001b[38;5;28;01mexcept\u001b[39;00m (\u001b[38;5;167;01mOSError\u001b[39;00m, \u001b[38;5;167;01mValueError\u001b[39;00m, \u001b[38;5;167;01mKeyError\u001b[39;00m, KeySignatureError, \u001b[38;5;167;01mEOFError\u001b[39;00m) \u001b[38;5;28;01mas\u001b[39;00m e:\n",
      "File \u001b[0;32m/opt/anaconda3/lib/python3.12/site-packages/mido/midifiles/midifiles.py:320\u001b[0m, in \u001b[0;36mMidiFile.__init__\u001b[0;34m(self, filename, file, type, ticks_per_beat, charset, debug, clip, tracks)\u001b[0m\n\u001b[1;32m    318\u001b[0m \u001b[38;5;28;01melif\u001b[39;00m \u001b[38;5;28mself\u001b[39m\u001b[38;5;241m.\u001b[39mfilename \u001b[38;5;129;01mis\u001b[39;00m \u001b[38;5;129;01mnot\u001b[39;00m \u001b[38;5;28;01mNone\u001b[39;00m:\n\u001b[1;32m    319\u001b[0m     \u001b[38;5;28;01mwith\u001b[39;00m \u001b[38;5;28mopen\u001b[39m(filename, \u001b[38;5;124m'\u001b[39m\u001b[38;5;124mrb\u001b[39m\u001b[38;5;124m'\u001b[39m) \u001b[38;5;28;01mas\u001b[39;00m file:\n\u001b[0;32m--> 320\u001b[0m         \u001b[38;5;28mself\u001b[39m\u001b[38;5;241m.\u001b[39m_load(file)\n",
      "File \u001b[0;32m/opt/anaconda3/lib/python3.12/site-packages/mido/midifiles/midifiles.py:371\u001b[0m, in \u001b[0;36mMidiFile._load\u001b[0;34m(self, infile)\u001b[0m\n\u001b[1;32m    368\u001b[0m \u001b[38;5;28;01mif\u001b[39;00m \u001b[38;5;28mself\u001b[39m\u001b[38;5;241m.\u001b[39mdebug:\n\u001b[1;32m    369\u001b[0m     _dbg(\u001b[38;5;124mf\u001b[39m\u001b[38;5;124m'\u001b[39m\u001b[38;5;124mTrack \u001b[39m\u001b[38;5;132;01m{\u001b[39;00mi\u001b[38;5;132;01m}\u001b[39;00m\u001b[38;5;124m:\u001b[39m\u001b[38;5;124m'\u001b[39m)\n\u001b[0;32m--> 371\u001b[0m \u001b[38;5;28mself\u001b[39m\u001b[38;5;241m.\u001b[39mtracks\u001b[38;5;241m.\u001b[39mappend(read_track(infile,\n\u001b[1;32m    372\u001b[0m                               debug\u001b[38;5;241m=\u001b[39m\u001b[38;5;28mself\u001b[39m\u001b[38;5;241m.\u001b[39mdebug,\n\u001b[1;32m    373\u001b[0m                               clip\u001b[38;5;241m=\u001b[39m\u001b[38;5;28mself\u001b[39m\u001b[38;5;241m.\u001b[39mclip))\n",
      "File \u001b[0;32m/opt/anaconda3/lib/python3.12/site-packages/mido/midifiles/midifiles.py:212\u001b[0m, in \u001b[0;36mread_track\u001b[0;34m(infile, debug, clip)\u001b[0m\n\u001b[1;32m    209\u001b[0m     peek_data \u001b[38;5;241m=\u001b[39m []\n\u001b[1;32m    211\u001b[0m \u001b[38;5;28;01mif\u001b[39;00m status_byte \u001b[38;5;241m==\u001b[39m \u001b[38;5;241m0xff\u001b[39m:\n\u001b[0;32m--> 212\u001b[0m     msg \u001b[38;5;241m=\u001b[39m read_meta_message(infile, delta)\n\u001b[1;32m    213\u001b[0m \u001b[38;5;28;01melif\u001b[39;00m status_byte \u001b[38;5;129;01min\u001b[39;00m [\u001b[38;5;241m0xf0\u001b[39m, \u001b[38;5;241m0xf7\u001b[39m]:\n\u001b[1;32m    214\u001b[0m     \u001b[38;5;66;03m# TODO: I'm not quite clear on the difference between\u001b[39;00m\n\u001b[1;32m    215\u001b[0m     \u001b[38;5;66;03m# f0 and f7 events.\u001b[39;00m\n\u001b[1;32m    216\u001b[0m     msg \u001b[38;5;241m=\u001b[39m read_sysex(infile, delta, clip)\n",
      "File \u001b[0;32m/opt/anaconda3/lib/python3.12/site-packages/mido/midifiles/midifiles.py:167\u001b[0m, in \u001b[0;36mread_meta_message\u001b[0;34m(infile, delta)\u001b[0m\n\u001b[1;32m    165\u001b[0m length \u001b[38;5;241m=\u001b[39m read_variable_int(infile)\n\u001b[1;32m    166\u001b[0m data \u001b[38;5;241m=\u001b[39m read_bytes(infile, length)\n\u001b[0;32m--> 167\u001b[0m \u001b[38;5;28;01mreturn\u001b[39;00m build_meta_message(meta_type, data, delta)\n",
      "File \u001b[0;32m/opt/anaconda3/lib/python3.12/site-packages/mido/midifiles/meta.py:471\u001b[0m, in \u001b[0;36mbuild_meta_message\u001b[0;34m(meta_type, data, delta)\u001b[0m\n\u001b[1;32m    468\u001b[0m msg \u001b[38;5;241m=\u001b[39m MetaMessage(spec\u001b[38;5;241m.\u001b[39mtype, time\u001b[38;5;241m=\u001b[39mdelta)\n\u001b[1;32m    470\u001b[0m \u001b[38;5;66;03m# This adds attributes to msg:\u001b[39;00m\n\u001b[0;32m--> 471\u001b[0m spec\u001b[38;5;241m.\u001b[39mdecode(msg, data)\n\u001b[1;32m    473\u001b[0m \u001b[38;5;28;01mreturn\u001b[39;00m msg\n",
      "File \u001b[0;32m/opt/anaconda3/lib/python3.12/site-packages/mido/midifiles/meta.py:371\u001b[0m, in \u001b[0;36mMetaSpec_time_signature.decode\u001b[0;34m(self, message, data)\u001b[0m\n\u001b[1;32m    369\u001b[0m message\u001b[38;5;241m.\u001b[39mnumerator \u001b[38;5;241m=\u001b[39m data[\u001b[38;5;241m0\u001b[39m]\n\u001b[1;32m    370\u001b[0m message\u001b[38;5;241m.\u001b[39mdenominator \u001b[38;5;241m=\u001b[39m \u001b[38;5;241m2\u001b[39m \u001b[38;5;241m*\u001b[39m\u001b[38;5;241m*\u001b[39m data[\u001b[38;5;241m1\u001b[39m]\n\u001b[0;32m--> 371\u001b[0m message\u001b[38;5;241m.\u001b[39mclocks_per_click \u001b[38;5;241m=\u001b[39m data[\u001b[38;5;241m2\u001b[39m]\n\u001b[1;32m    372\u001b[0m message\u001b[38;5;241m.\u001b[39mnotated_32nd_notes_per_beat \u001b[38;5;241m=\u001b[39m data[\u001b[38;5;241m3\u001b[39m]\n",
      "\u001b[0;31mIndexError\u001b[0m: list index out of range"
     ]
    }
   ],
   "source": [
    "InputPath = os.path.realpath('CompleteMIDI')\n",
    "LogFolder = os.path.realpath('CompleteMIDI_Log')\n",
    "\n",
    "CleaningData(InputPath=InputPath, LogFolder=LogFolder, FolderName='CompleteMIDI_Log')"
   ]
  },
  {
   "cell_type": "code",
   "execution_count": null,
   "id": "dbbbb9ac",
   "metadata": {},
   "outputs": [],
   "source": []
  }
 ],
 "metadata": {
  "kernelspec": {
   "display_name": "base",
   "language": "python",
   "name": "python3"
  },
  "language_info": {
   "codemirror_mode": {
    "name": "ipython",
    "version": 3
   },
   "file_extension": ".py",
   "mimetype": "text/x-python",
   "name": "python",
   "nbconvert_exporter": "python",
   "pygments_lexer": "ipython3",
   "version": "3.12.9"
  }
 },
 "nbformat": 4,
 "nbformat_minor": 5
}
