{
 "cells": [
  {
   "cell_type": "code",
   "execution_count": 10,
   "id": "57ccc183",
   "metadata": {},
   "outputs": [
    {
     "name": "stdout",
     "output_type": "stream",
     "text": [
      "The autoreload extension is already loaded. To reload it, use:\n",
      "  %reload_ext autoreload\n"
     ]
    }
   ],
   "source": [
    "%load_ext autoreload\n",
    "%autoreload 2\n",
    "\n",
    "import numpy as np\n",
    "import matplotlib.pyplot as plt\n",
    "import pandas as pd\n",
    "import pickle\n",
    "import pretty_midi\n",
    "import librosa\n",
    "import librosa.display\n",
    "import gc\n",
    "from sklearn.preprocessing import StandardScaler\n",
    "import warnings\n",
    "from collections import Counter\n",
    "from torch.utils.data import Dataset\n",
    "import torch\n",
    "from pympler import asizeof\n",
    "import torch.optim as optim \n",
    "\n",
    "\n",
    "\n",
    "import torch\n",
    "import torch.nn as nn\n",
    "from torch.utils.data import DataLoader, Dataset\n",
    "\n",
    "\n",
    "from sklearn.preprocessing import StandardScaler\n",
    "\n",
    "from Preprocessing import *\n",
    "#from ExtractGenre import *\n",
    "from CNN_ExtractGenre import *\n",
    "from PolyphonicPreprocessing import *\n",
    "import Util as Util\n",
    "\n",
    "import DatasetLoader as DL\n",
    "import Model as M\n",
    "\n"
   ]
  },
  {
   "cell_type": "code",
   "execution_count": 12,
   "id": "fe5b0635",
   "metadata": {},
   "outputs": [],
   "source": [
    "GenreMapping = {'metal': 0, 'disco': 1, 'classical': 2, 'hiphop': 3, 'jazz': 4,\n",
    "          'country': 5, 'pop': 6, 'blues': 7, 'reggae': 8, 'rock': 9}"
   ]
  },
  {
   "cell_type": "code",
   "execution_count": 13,
   "id": "8bb100a5",
   "metadata": {},
   "outputs": [],
   "source": [
    "Path = os.path.realpath('clean_midi/Eminem/Stan.mid')\n",
    "mid = mido.MidiFile(Path)\n",
    "#print(mid)\n",
    "\n"
   ]
  },
  {
   "cell_type": "code",
   "execution_count": null,
   "id": "6905abc2",
   "metadata": {},
   "outputs": [
    {
     "name": "stderr",
     "output_type": "stream",
     "text": [
      "Preprocessing: 100%|██████████| 15/15 [00:01<00:00, 12.44it/s]\n"
     ]
    }
   ],
   "source": []
  },
  {
   "cell_type": "code",
   "execution_count": 88,
   "id": "b34454c9",
   "metadata": {},
   "outputs": [],
   "source": [
    "torch.save(PolyDataset, 'PolyphonicDataset.pt')"
   ]
  },
  {
   "cell_type": "markdown",
   "id": "69262965",
   "metadata": {},
   "source": [
    "# 1 Instrument "
   ]
  },
  {
   "cell_type": "code",
   "execution_count": 2,
   "id": "7b55097d",
   "metadata": {},
   "outputs": [
    {
     "name": "stderr",
     "output_type": "stream",
     "text": [
      "Preprocessing: 100%|██████████| 10/10 [00:01<00:00,  5.15it/s]\n"
     ]
    }
   ],
   "source": [
    "Dataset = PreProcessing(nDir = 10)"
   ]
  },
  {
   "cell_type": "code",
   "execution_count": null,
   "id": "2182d38e",
   "metadata": {},
   "outputs": [],
   "source": []
  },
  {
   "cell_type": "code",
   "execution_count": 89,
   "id": "e7b3a00f",
   "metadata": {},
   "outputs": [
    {
     "name": "stdout",
     "output_type": "stream",
     "text": [
      "GPU not available\n"
     ]
    }
   ],
   "source": [
    "if torch.cuda.is_available():\n",
    "    device = torch.device(\"cuda\")\n",
    "    print('GPU available')\n",
    "else:\n",
    "    device = torch.device(\"cpu\")\n",
    "    print('GPU not available')\n",
    "\n",
    "\n",
    "def LoadModel(Cond1D_Size, instrumentSize, Which):\n",
    "\n",
    "    Path = os.path.realpath('ModelParameters')\n",
    "\n",
    "    files = [\n",
    "        ['generator_parameters.torch', 'gen_opt_state.torch'],\n",
    "        ['Polygenerator_parameters2.torch', 'Polygen_opt_state2.torch']\n",
    "    ]\n",
    "\n",
    "    generator = M.Generator(input_size=100, cond_1d_size=Cond1D_Size, instrument_size=instrumentSize, n_hlayers=128)\n",
    "    generator.apply(M.weights_init)\n",
    "    generator.to(device)\n",
    "    # Load the state dict previously saved\n",
    "    generator_state_dict = torch.load(os.path.join(Path, files[Which][0]), map_location=torch.device('cpu'))\n",
    "    # Update the network parameters\n",
    "    generator.load_state_dict(generator_state_dict)\n",
    "\n",
    "    gen_opt = optim.Adam(generator.parameters(), lr=2e-4)\n",
    "    # Load the state dict previously saved\n",
    "    gen_opt_state_dict = torch.load(os.path.join(Path, files[Which][1]), map_location=torch.device('cpu'))\n",
    "    # Update the network parameters\n",
    "    gen_opt.load_state_dict(gen_opt_state_dict)\n",
    "\n",
    "    return generator\n",
    "\n",
    "                                                    #MOnophonic or polyphonic\n",
    "generator = LoadModel(Cond1D_Size=5, instrumentSize=4, Which=1)"
   ]
  },
  {
   "cell_type": "code",
   "execution_count": 90,
   "id": "7600e9ac",
   "metadata": {},
   "outputs": [
    {
     "name": "stderr",
     "output_type": "stream",
     "text": [
      "Preprocessing: 100%|██████████| 150/150 [00:30<00:00,  4.98it/s]\n"
     ]
    }
   ],
   "source": [
    "PolyDataset = PolyphonicPreProcessing(nDir = 150)"
   ]
  },
  {
   "cell_type": "code",
   "execution_count": null,
   "id": "f1fe3553",
   "metadata": {},
   "outputs": [
    {
     "data": {
      "text/plain": [
       "torch.Size([4, 128, 16])"
      ]
     },
     "execution_count": 108,
     "metadata": {},
     "output_type": "execute_result"
    }
   ],
   "source": [
    "#np.shape(torch.tensor(np.random.randint(0, 2, (128, 16))).float().to(device).unsqueeze(0))\n",
    "\n",
    "\n",
    "\n"
   ]
  },
  {
   "cell_type": "code",
   "execution_count": 112,
   "id": "e02b02c7",
   "metadata": {},
   "outputs": [
    {
     "name": "stdout",
     "output_type": "stream",
     "text": [
      "[33, 41, 49, 73]\n"
     ]
    }
   ],
   "source": [
    "generator.eval()\n",
    "noise = torch.randn([1, 100], device=device)\n",
    "\n",
    "Genre = 'rock'\n",
    "bar = 51\n",
    "\n",
    "prev_bar = PolyDataset[Genre][bar]['Bars'][0].to_dense().float().to(device)\n",
    "InstrumentCode = PolyDataset[Genre][bar]['Program'][0]\n",
    "Tempo = PolyDataset[Genre][bar]['Tempo'][0]\n",
    "\n",
    "#prev_bar = torch.tensor(np.random.randint(0, 1, (4, 128, 16))).float().to(device)\n",
    "\n",
    "cond_1d = torch.tensor([[Tempo] + InstrumentCode], dtype= torch.float32)\n",
    "Bars = []\n",
    "Bars.append(prev_bar)\n",
    "#If polyphonic only 1 unsqueeze\n",
    "prev_bar = prev_bar.unsqueeze(0)#.unsqueeze(0) \n",
    "\n",
    "\n",
    "for i in range(8):\n",
    "   with torch.no_grad():\n",
    "      generated_bar = generator(noise, prev_bar, cond_1d, 1)\n",
    "\n",
    "   generated_bar=generated_bar.cpu().numpy()\n",
    "   binary_bar = (generated_bar.reshape(4, 128, 16) > 0.3).astype(int)\n",
    "\n",
    "   #if i % 2 == 0:\n",
    "   #prev_bar = torch.tensor(binary_bar, dtype=torch.float32, device=device).unsqueeze(0).unsqueeze(0)\n",
    "      #prev_bar = PolyDataset[Genre][bar+i]['Bars'][0].to_dense().float().to(device).unsqueeze(0)#.unsqueeze(0) \n",
    "   #prev_bar = torch.tensor(binary_bar, dtype=torch.float32, device=device).unsqueeze(0)\n",
    "\n",
    "\n",
    "   Bars.append(binary_bar)\n",
    "\n",
    "\n",
    "\n",
    "#ConcBars = np.concatenate(Bars, axis = 1)\n",
    "PolyConcBars = np.concatenate(Bars, axis = 2)\n",
    "\n",
    "#MonoBarsToMIDI(ConcBars, title='test', Instrument=InstrumentCode)\n",
    "\n",
    "PolyBarsToMIDI(PolyConcBars, title='Polytest', Instrument=InstrumentCode)\n",
    "\n",
    "print(InstrumentCode)"
   ]
  },
  {
   "cell_type": "code",
   "execution_count": 94,
   "id": "fd90c572",
   "metadata": {},
   "outputs": [],
   "source": [
    "polconc = []\n",
    "for i in range(50, 54):\n",
    "   for j in range(2):\n",
    "      polconc.append(PolyDataset['rock'][i]['Bars'][j].to_dense())\n",
    "\n",
    "conc = np.concatenate(polconc, axis = 2)\n",
    "PolyBarsToMIDI(conc, title = 'True', Instrument = [33, 41, 49, 73])"
   ]
  },
  {
   "cell_type": "code",
   "execution_count": null,
   "id": "8f399a68",
   "metadata": {},
   "outputs": [],
   "source": []
  }
 ],
 "metadata": {
  "kernelspec": {
   "display_name": "base",
   "language": "python",
   "name": "python3"
  },
  "language_info": {
   "codemirror_mode": {
    "name": "ipython",
    "version": 3
   },
   "file_extension": ".py",
   "mimetype": "text/x-python",
   "name": "python",
   "nbconvert_exporter": "python",
   "pygments_lexer": "ipython3",
   "version": "3.12.9"
  }
 },
 "nbformat": 4,
 "nbformat_minor": 5
}
