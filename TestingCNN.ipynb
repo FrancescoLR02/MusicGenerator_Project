{
 "cells": [
  {
   "cell_type": "code",
   "execution_count": 13,
   "id": "57ccc183",
   "metadata": {},
   "outputs": [
    {
     "name": "stdout",
     "output_type": "stream",
     "text": [
      "The autoreload extension is already loaded. To reload it, use:\n",
      "  %reload_ext autoreload\n"
     ]
    }
   ],
   "source": [
    "%load_ext autoreload\n",
    "%autoreload 2\n",
    "\n",
    "import numpy as np\n",
    "import matplotlib.pyplot as plt\n",
    "import pandas as pd\n",
    "import pickle\n",
    "import pretty_midi\n",
    "import librosa\n",
    "import librosa.display\n",
    "import gc\n",
    "from sklearn.preprocessing import StandardScaler\n",
    "import warnings\n",
    "from collections import Counter\n",
    "from torch.utils.data import Dataset\n",
    "import torch\n",
    "from pympler import asizeof\n",
    "import torch.optim as optim \n",
    "\n",
    "\n",
    "\n",
    "import torch\n",
    "import torch.nn as nn\n",
    "from torch.utils.data import DataLoader, Dataset\n",
    "\n",
    "\n",
    "from sklearn.preprocessing import StandardScaler\n",
    "\n",
    "from Preprocessing import *\n",
    "#from ExtractGenre import *\n",
    "from CNN_ExtractGenre import *\n",
    "from PolyphonicPreprocessing import *\n",
    "import Util as Util\n",
    "\n",
    "import DatasetLoader as DL\n",
    "import Model as M\n",
    "\n"
   ]
  },
  {
   "cell_type": "code",
   "execution_count": 12,
   "id": "fe5b0635",
   "metadata": {},
   "outputs": [],
   "source": [
    "GenreMapping = {'metal': 0, 'disco': 1, 'classical': 2, 'hiphop': 3, 'jazz': 4,\n",
    "          'country': 5, 'pop': 6, 'blues': 7, 'reggae': 8, 'rock': 9}"
   ]
  },
  {
   "cell_type": "code",
   "execution_count": 13,
   "id": "8bb100a5",
   "metadata": {},
   "outputs": [],
   "source": [
    "Path = os.path.realpath('clean_midi/Eminem/Stan.mid')\n",
    "mid = mido.MidiFile(Path)\n",
    "#print(mid)\n",
    "\n"
   ]
  },
  {
   "cell_type": "code",
   "execution_count": 87,
   "id": "6905abc2",
   "metadata": {},
   "outputs": [
    {
     "name": "stderr",
     "output_type": "stream",
     "text": [
      "Preprocessing: 100%|██████████| 1500/1500 [06:18<00:00,  3.97it/s]\n"
     ]
    }
   ],
   "source": [
    "PolyDataset = PolyphonicPreProcessing(nDir = 1500)"
   ]
  },
  {
   "cell_type": "code",
   "execution_count": 88,
   "id": "b34454c9",
   "metadata": {},
   "outputs": [],
   "source": [
    "torch.save(PolyDataset, 'PolyphonicDataset.pt')"
   ]
  },
  {
   "cell_type": "markdown",
   "id": "69262965",
   "metadata": {},
   "source": [
    "# 1 Instrument "
   ]
  },
  {
   "cell_type": "code",
   "execution_count": 63,
   "id": "e7b3a00f",
   "metadata": {},
   "outputs": [
    {
     "name": "stdout",
     "output_type": "stream",
     "text": [
      "GPU not available\n"
     ]
    }
   ],
   "source": [
    "if torch.cuda.is_available():\n",
    "    device = torch.device(\"cuda\")\n",
    "    print('GPU available')\n",
    "else:\n",
    "    device = torch.device(\"cpu\")\n",
    "    print('GPU not available')\n",
    "\n",
    "    \n",
    "\n",
    "discriminator = M.Discriminator(cond_1d_size=2, instrument_size=1)\n",
    "discriminator.apply(M.weights_init)\n",
    "discriminator.to(device)\n",
    "# Load the state dict previously saved\n",
    "discriminator_state_dict = torch.load('discriminator_parameters.torch', map_location=torch.device('cpu'))\n",
    "# Update the network parameters\n",
    "discriminator.load_state_dict(discriminator_state_dict)\n",
    "\n",
    "generator = M.Generator(input_size=100, cond_1d_size=2, instrument_size=1, n_hlayers=128)\n",
    "generator.apply(M.weights_init)\n",
    "generator.to(device)\n",
    "# Load the state dict previously saved\n",
    "generator_state_dict = torch.load('generator_parameters.torch', map_location=torch.device('cpu'))\n",
    "# Update the network parameters\n",
    "generator.load_state_dict(generator_state_dict)\n",
    "\n",
    "\n",
    "dis_opt = optim.Adam(discriminator.parameters(), lr=2e-4)\n",
    "# Load the state dict previously saved\n",
    "dis_opt_state_dict = torch.load('dis_opt_state.torch', map_location=torch.device('cpu'))\n",
    "# Update the network parameters\n",
    "dis_opt.load_state_dict(dis_opt_state_dict)\n",
    "\n",
    "gen_opt = optim.RMSprop(generator.parameters(), lr=1e-5)\n",
    "# Load the state dict previously saved\n",
    "gen_opt_state_dict = torch.load('gen_opt_state.torch', map_location=torch.device('cpu'))\n",
    "# Update the network parameters\n",
    "gen_opt.load_state_dict(gen_opt_state_dict)"
   ]
  },
  {
   "cell_type": "code",
   "execution_count": 82,
   "id": "e02b02c7",
   "metadata": {},
   "outputs": [],
   "source": [
    "generator.eval()\n",
    "noise = torch.randn([1, 100], device=device)\n",
    "\n",
    "Instrument = 'Guitar'\n",
    "bar = 30\n",
    "\n",
    "prev_bar = Dataset[Instrument][bar]['Bars'][0].to_dense().float().to(device)\n",
    "InstrumentCode = Dataset[Instrument][bar]['Program']\n",
    "Tempo = Dataset[Instrument][bar]['Tempo'][0]\n",
    "cond_1d = torch.tensor([[Tempo, InstrumentCode]], dtype= torch.float32)\n",
    "Bars = []\n",
    "Bars.append(prev_bar)\n",
    "prev_bar = prev_bar.unsqueeze(0).unsqueeze(0) \n",
    "\n",
    "\n",
    "for i in range(8):\n",
    "   with torch.no_grad():\n",
    "      generated_bar = generator(noise, prev_bar, cond_1d, 1)\n",
    "\n",
    "   generated_bar=generated_bar.cpu().numpy()\n",
    "   binary_bar = (generated_bar.reshape(128, 16) > 0.5).astype(int)\n",
    "\n",
    "   if i > 1:\n",
    "      prev_bar = torch.tensor(binary_bar, dtype=torch.float32, device=device).unsqueeze(0).unsqueeze(0)\n",
    "\n",
    "   Bars.append(binary_bar)\n",
    "\n",
    "\n",
    "\n",
    "ConcBars = np.concatenate(Bars, axis = 1)\n",
    "\n",
    "MonoBarsToMIDI(ConcBars, title='test', Instrument=InstrumentCode)"
   ]
  },
  {
   "cell_type": "code",
   "execution_count": null,
   "id": "97bd2bc5",
   "metadata": {},
   "outputs": [],
   "source": []
  },
  {
   "cell_type": "code",
   "execution_count": null,
   "id": "291bc175",
   "metadata": {},
   "outputs": [],
   "source": []
  }
 ],
 "metadata": {
  "kernelspec": {
   "display_name": "base",
   "language": "python",
   "name": "python3"
  },
  "language_info": {
   "codemirror_mode": {
    "name": "ipython",
    "version": 3
   },
   "file_extension": ".py",
   "mimetype": "text/x-python",
   "name": "python",
   "nbconvert_exporter": "python",
   "pygments_lexer": "ipython3",
   "version": "3.12.9"
  }
 },
 "nbformat": 4,
 "nbformat_minor": 5
}
