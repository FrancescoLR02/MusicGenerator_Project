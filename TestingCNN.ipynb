{
 "cells": [
  {
   "cell_type": "code",
   "execution_count": 1,
   "id": "57ccc183",
   "metadata": {},
   "outputs": [],
   "source": [
    "%load_ext autoreload\n",
    "%autoreload 2\n",
    "\n",
    "import numpy as np\n",
    "import matplotlib.pyplot as plt\n",
    "import pandas as pd\n",
    "import pickle\n",
    "import pretty_midi\n",
    "import librosa\n",
    "import librosa.display\n",
    "import gc\n",
    "from sklearn.preprocessing import StandardScaler\n",
    "import warnings\n",
    "from collections import Counter\n",
    "from torch.utils.data import Dataset\n",
    "import torch\n",
    "from pympler import asizeof\n",
    "import torch.optim as optim \n",
    "\n",
    "\n",
    "\n",
    "import torch\n",
    "import torch.nn as nn\n",
    "from torch.utils.data import DataLoader, Dataset\n",
    "\n",
    "\n",
    "from sklearn.preprocessing import StandardScaler\n",
    "\n",
    "from Preprocessing import *\n",
    "#from ExtractGenre import *\n",
    "from CNN_ExtractGenre import *\n",
    "from PolyphonicPreprocessing import *\n",
    "import Util as Util\n",
    "\n",
    "import DatasetLoader as DL\n",
    "import Model as M\n",
    "\n"
   ]
  },
  {
   "cell_type": "code",
   "execution_count": null,
   "id": "fe5b0635",
   "metadata": {},
   "outputs": [],
   "source": [
    "GenreMapping = {'metal': 0, 'disco': 1, 'classical': 2, 'hiphop': 3, 'jazz': 4,\n",
    "          'country': 5, 'pop': 6, 'blues': 7, 'reggae': 8, 'rock': 9}"
   ]
  },
  {
   "cell_type": "code",
   "execution_count": null,
   "id": "8bb100a5",
   "metadata": {},
   "outputs": [],
   "source": [
    "Path = os.path.realpath('clean_midi/Eminem/Stan.mid')\n",
    "mid = mido.MidiFile(Path)\n",
    "#print(mid)\n",
    "\n"
   ]
  },
  {
   "cell_type": "code",
   "execution_count": null,
   "id": "3da44683",
   "metadata": {},
   "outputs": [],
   "source": [
    "Data = DL.MonophonicDataset(Instruments=['Bass'], EightBars=True)\n",
    "Bars = DataLoader(Data, batch_size=10, shuffle=True, num_workers=0)"
   ]
  },
  {
   "cell_type": "code",
   "execution_count": null,
   "id": "c3149b98",
   "metadata": {},
   "outputs": [],
   "source": []
  },
  {
   "cell_type": "markdown",
   "id": "69262965",
   "metadata": {},
   "source": [
    "# 1 Instrument "
   ]
  },
  {
   "cell_type": "code",
   "execution_count": 3,
   "id": "e7b3a00f",
   "metadata": {},
   "outputs": [
    {
     "name": "stdout",
     "output_type": "stream",
     "text": [
      "GPU not available\n"
     ]
    }
   ],
   "source": [
    "if torch.cuda.is_available():\n",
    "    device = torch.device(\"cuda\")\n",
    "    print('GPU available')\n",
    "else:\n",
    "    device = torch.device(\"cpu\")\n",
    "    print('GPU not available')\n",
    "\n",
    "\n",
    "def LoadModel(Cond1D_Size, instrumentSize, Which):\n",
    "\n",
    "    Path = os.path.realpath('ModelParameters')\n",
    "\n",
    "    files = [\n",
    "        ['generator_parameters.torch', 'gen_opt_state.torch'],\n",
    "        ['generator_parameters.torch', 'gen_opt_state.torch']\n",
    "    ]\n",
    "\n",
    "    generator = M.Generator(input_size=256, cond_1d_size=Cond1D_Size, instrument_size=instrumentSize, n_hlayers=256)\n",
    "    generator.apply(M.weights_init)\n",
    "    generator.to(device)\n",
    "    # Load the state dict previously saved\n",
    "    generator_state_dict = torch.load(os.path.join(Path, files[Which][0]), map_location=torch.device('cpu'))\n",
    "    # Update the network parameters\n",
    "    generator.load_state_dict(generator_state_dict)\n",
    "\n",
    "    gen_opt = optim.Adam(generator.parameters(), lr=2e-4)\n",
    "    # Load the state dict previously saved\n",
    "    gen_opt_state_dict = torch.load(os.path.join(Path, files[Which][1]), map_location=torch.device('cpu'))\n",
    "    # Update the network parameters\n",
    "    gen_opt.load_state_dict(gen_opt_state_dict)\n",
    "\n",
    "    return generator\n",
    "\n",
    "                                                    #MOnophonic or polyphonic\n",
    "generator = LoadModel(Cond1D_Size=5, instrumentSize=4, Which=1)"
   ]
  },
  {
   "cell_type": "code",
   "execution_count": 4,
   "id": "7600e9ac",
   "metadata": {},
   "outputs": [
    {
     "name": "stderr",
     "output_type": "stream",
     "text": [
      "Preprocessing: 100%|██████████| 150/150 [00:32<00:00,  4.59it/s]\n"
     ]
    }
   ],
   "source": [
    "PolyDataset = PolyphonicPreProcessing(nDir = 50)"
   ]
  },
  {
   "cell_type": "code",
   "execution_count": 5,
   "id": "b8c469b1",
   "metadata": {},
   "outputs": [],
   "source": [
    "TEMPO_MIN, TEMPO_MAX = 60, 200  # Typical tempo range\n",
    "PROGRAM_MIN, PROGRAM_MAX = 1, 128  # MIDI program range\n",
    "\n",
    "def NormCond(tempo, programs):\n",
    "    # Normalize tempo to [0, 1]\n",
    "    tempo_norm = (tempo - TEMPO_MIN) / (TEMPO_MAX - TEMPO_MIN)\n",
    "    \n",
    "    # Normalize programs to [0, 1]\n",
    "    programs_norm = [(p - PROGRAM_MIN) / (PROGRAM_MAX - PROGRAM_MIN) for p in programs]\n",
    "    \n",
    "    return [tempo_norm] + programs_norm"
   ]
  },
  {
   "cell_type": "code",
   "execution_count": 16,
   "id": "e02b02c7",
   "metadata": {},
   "outputs": [
    {
     "name": "stdout",
     "output_type": "stream",
     "text": [
      "0.005938210524618626 0.045797038823366165\n",
      "0.0052363937720656395 0.04101745784282684\n",
      "0.0057996888644993305 0.04395905137062073\n",
      "0.006194867193698883 0.04693875461816788\n",
      "0.009649202227592468 0.05970766767859459\n",
      "0.012444048188626766 0.08934357017278671\n",
      "0.010406783781945705 0.0649520605802536\n",
      "0.01269016694277525 0.09213338792324066\n",
      "[1, 33, 49, 25]\n"
     ]
    }
   ],
   "source": [
    "generator.eval()\n",
    "\n",
    "Genre = 'rock'\n",
    "bar = np.random.randint(0, 100)\n",
    "\n",
    "prev_bar = PolyDataset[Genre][bar]['Bars'][0].to_dense().float().to(device)\n",
    "InstrumentCode = PolyDataset[Genre][bar]['Program'][0]\n",
    "Tempo = PolyDataset[Genre][bar]['Tempo'][0]\n",
    "\n",
    "cond_1d = torch.tensor([NormCond(Tempo, InstrumentCode)], dtype= torch.float32)\n",
    "Bars = []\n",
    "Bars.append(prev_bar)\n",
    "#If polyphonic only 1 unsqueeze\n",
    "prev_bar = prev_bar.unsqueeze(0)#.unsqueeze(0) \n",
    "\n",
    "\n",
    "for i in range(8):\n",
    "   noise = torch.rand([1, 256], device=device)\n",
    "\n",
    "   #print(np.mean(np.array(noise)))\n",
    "\n",
    "   with torch.no_grad():\n",
    "      generated_bar = generator(noise, prev_bar, cond_1d, 1)\n",
    "\n",
    "   binary_bar = (generated_bar > 0.4).float()  # still a tensor\n",
    "   Bars.append(binary_bar.squeeze(0).cpu().numpy())  # only now for MIDI\n",
    "   print(generated_bar.mean().item(), generated_bar.std().item())\n",
    "   prev_bar = binary_bar.detach()\n",
    "\n",
    "   if i % 2 == 0:\n",
    "      prev_bar = binary_bar.detach()\n",
    "   else:\n",
    "      prev_bar = PolyDataset[Genre][bar + i]['Bars'][0].to_dense().float().to(device).unsqueeze(0)\n",
    "\n",
    "\n",
    "\n",
    "\n",
    "#ConcBars = np.concatenate(Bars, axis = 1)\n",
    "PolyConcBars = np.concatenate(Bars, axis = 2)\n",
    "\n",
    "PolyBarsToMIDI(PolyConcBars, title='Polytest', Instrument=InstrumentCode)\n",
    "\n",
    "print(InstrumentCode)\n"
   ]
  },
  {
   "cell_type": "code",
   "execution_count": null,
   "id": "fd90c572",
   "metadata": {},
   "outputs": [],
   "source": [
    "polconc = []\n",
    "for i in range(50, 54):\n",
    "   for j in range(2):\n",
    "      polconc.append(PolyDataset['rock'][i]['Bars'][j].to_dense())\n",
    "\n",
    "conc = np.concatenate(polconc, axis = 2)\n",
    "PolyBarsToMIDI(conc, title = 'True', Instrument = [33, 41, 49, 73])"
   ]
  },
  {
   "cell_type": "code",
   "execution_count": null,
   "id": "fd82a987",
   "metadata": {},
   "outputs": [],
   "source": [
    "\n",
    "\n",
    "torch.randn(np.shape(torch.ones_like(prev_bar)))*0.2"
   ]
  },
  {
   "cell_type": "code",
   "execution_count": null,
   "id": "147edd89",
   "metadata": {},
   "outputs": [],
   "source": []
  }
 ],
 "metadata": {
  "kernelspec": {
   "display_name": "base",
   "language": "python",
   "name": "python3"
  },
  "language_info": {
   "codemirror_mode": {
    "name": "ipython",
    "version": 3
   },
   "file_extension": ".py",
   "mimetype": "text/x-python",
   "name": "python",
   "nbconvert_exporter": "python",
   "pygments_lexer": "ipython3",
   "version": "3.12.9"
  }
 },
 "nbformat": 4,
 "nbformat_minor": 5
}
