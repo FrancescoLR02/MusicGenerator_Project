{
 "cells": [
  {
   "cell_type": "code",
   "execution_count": 1,
   "id": "57ccc183",
   "metadata": {},
   "outputs": [],
   "source": [
    "%load_ext autoreload\n",
    "%autoreload 2\n",
    "\n",
    "import numpy as np\n",
    "import matplotlib.pyplot as plt\n",
    "import pandas as pd\n",
    "import pickle\n",
    "import pretty_midi\n",
    "import librosa\n",
    "import librosa.display\n",
    "import gc\n",
    "from sklearn.preprocessing import StandardScaler\n",
    "import warnings\n",
    "from collections import Counter\n",
    "from torch.utils.data import Dataset\n",
    "import torch\n",
    "\n",
    "\n",
    "\n",
    "import torch\n",
    "import torch.nn as nn\n",
    "from torch.utils.data import DataLoader, Dataset\n",
    "\n",
    "\n",
    "from sklearn.preprocessing import StandardScaler\n",
    "\n",
    "from Preprocessing import *\n",
    "#from ExtractGenre import *\n",
    "from CNN_ExtractGenre import *\n",
    "from PolyphonicPreprocessing import *\n",
    "import Util as Util\n",
    "\n",
    "import DatasetLoader as DL\n",
    "\n"
   ]
  },
  {
   "cell_type": "code",
   "execution_count": 12,
   "id": "fe5b0635",
   "metadata": {},
   "outputs": [],
   "source": [
    "GenreMapping = {'metal': 0, 'disco': 1, 'classical': 2, 'hiphop': 3, 'jazz': 4,\n",
    "          'country': 5, 'pop': 6, 'blues': 7, 'reggae': 8, 'rock': 9}"
   ]
  },
  {
   "cell_type": "code",
   "execution_count": 17,
   "id": "8bb100a5",
   "metadata": {},
   "outputs": [],
   "source": [
    "Path = os.path.realpath('clean_midi/Eminem/Bad Meets Evil.mid')\n",
    "mid = mido.MidiFile(Path)\n",
    "#print(mid)"
   ]
  },
  {
   "cell_type": "code",
   "execution_count": 28,
   "id": "346c91e5",
   "metadata": {},
   "outputs": [
    {
     "name": "stderr",
     "output_type": "stream",
     "text": [
      "Preprocessing: 100%|██████████| 10/10 [00:02<00:00,  4.10it/s]\n"
     ]
    }
   ],
   "source": [
    "InputPath = os.path.relpath('clean_midi')\n",
    "\n",
    "#Selecting a random number of directory\n",
    "all_dirs = [d for d in os.listdir(InputPath) if os.path.isdir(os.path.join(InputPath, d))]\n",
    "\n",
    "random_dirs = np.random.choice(all_dirs, 10)\n",
    "\n",
    "for dir in tqdm(random_dirs, desc='Preprocessing'):\n",
    "   DirPath = os.path.join(InputPath, dir)\n",
    "\n",
    "   if not os.path.isdir(DirPath):\n",
    "      continue\n",
    "\n",
    "   #Real all the file in each folder\n",
    "   for file in os.listdir(DirPath):\n",
    "\n",
    "      FilePath = os.path.join(DirPath, file)\n",
    "\n",
    "      #Cleaned monophonic: Some songs are corrupted:\n",
    "      mid = mido.MidiFile(FilePath)\n",
    "      for track in mid.tracks:\n",
    "         for msg in track:\n",
    "            if hasattr(msg, 'channel') and msg.channel == 10:\n",
    "               #print(dir, file, msg)\n",
    "               pass\n"
   ]
  },
  {
   "cell_type": "code",
   "execution_count": 29,
   "id": "78c0ae09",
   "metadata": {},
   "outputs": [
    {
     "name": "stderr",
     "output_type": "stream",
     "text": [
      "Preprocessing: 100%|██████████| 30/30 [00:03<00:00,  7.82it/s]\n"
     ]
    }
   ],
   "source": [
    "test = PreProcessing(nDir = 30)"
   ]
  },
  {
   "cell_type": "code",
   "execution_count": 30,
   "id": "c325136e",
   "metadata": {},
   "outputs": [
    {
     "data": {
      "text/plain": [
       "{'SongName': ('My Number One', 'My Number One'),\n",
       " 'Bars': (tensor(indices=tensor([[55, 55, 55, 55, 55, 55, 55, 55, 55, 55, 55, 55, 55, 55,\n",
       "                          55, 55, 58, 63, 63, 63, 63, 63, 63, 63, 63, 63, 63, 63,\n",
       "                          63, 63, 63, 63, 63, 67],\n",
       "                         [ 0,  1,  2,  3,  4,  5,  6,  7,  8,  9, 10, 11, 12, 13,\n",
       "                          14, 15, 15,  0,  1,  2,  3,  4,  5,  6,  7,  8,  9, 10,\n",
       "                          11, 12, 13, 14, 15, 15]]),\n",
       "         values=tensor([1, 1, 1, 1, 1, 1, 1, 1, 1, 1, 1, 1, 1, 1, 1, 1, 1, 1, 1,\n",
       "                        1, 1, 1, 1, 1, 1, 1, 1, 1, 1, 1, 1, 1, 1, 1]),\n",
       "         size=(128, 16), nnz=34, dtype=torch.int32, layout=torch.sparse_coo),\n",
       "  tensor(indices=tensor([[53, 55, 55, 55, 55, 55, 56, 56, 56, 56, 56, 56, 56, 58,\n",
       "                          58, 58, 58, 58, 62, 63, 63, 63, 63, 63, 65, 65, 65, 65,\n",
       "                          65, 65, 65, 67, 67, 67, 67, 67],\n",
       "                         [15, 11, 12, 13, 14, 15,  5,  6,  7,  8,  9, 10, 11,  0,\n",
       "                           1,  2,  3,  4, 15, 11, 12, 13, 14, 15,  5,  6,  7,  8,\n",
       "                           9, 10, 11,  0,  1,  2,  3,  4]]),\n",
       "         values=tensor([1, 1, 1, 1, 1, 1, 1, 1, 1, 1, 1, 1, 1, 1, 1, 1, 1, 1, 1,\n",
       "                        1, 1, 1, 1, 1, 1, 1, 1, 1, 1, 1, 1, 1, 1, 1, 1, 1]),\n",
       "         size=(128, 16), nnz=36, dtype=torch.int32, layout=torch.sparse_coo)),\n",
       " 'Program': 182,\n",
       " 'Channel': (10, 10),\n",
       " 'numBar': (0, 1),\n",
       " 'Tempo': (111, 111)}"
      ]
     },
     "execution_count": 30,
     "metadata": {},
     "output_type": "execute_result"
    }
   ],
   "source": [
    "test['Percussion'][0]"
   ]
  },
  {
   "cell_type": "code",
   "execution_count": null,
   "id": "50f447e4",
   "metadata": {},
   "outputs": [],
   "source": []
  },
  {
   "cell_type": "code",
   "execution_count": null,
   "id": "ce97f3ad",
   "metadata": {},
   "outputs": [],
   "source": []
  },
  {
   "cell_type": "code",
   "execution_count": null,
   "id": "5cdf07c4",
   "metadata": {},
   "outputs": [],
   "source": []
  },
  {
   "cell_type": "code",
   "execution_count": 7,
   "id": "77dc814e",
   "metadata": {},
   "outputs": [],
   "source": [
    "polconc = []\n",
    "for i in range(30, 50):\n",
    "   for j in range(2):\n",
    "      polconc.append(test['Piano'][i]['Bars'][j].to_dense())"
   ]
  },
  {
   "cell_type": "code",
   "execution_count": 8,
   "id": "e2754fa2",
   "metadata": {},
   "outputs": [],
   "source": [
    "conc = np.concatenate(polconc, axis = 1)\n",
    "MonoBarsToMIDI(conc, title = 'test', Instrument = 4)"
   ]
  },
  {
   "cell_type": "code",
   "execution_count": 9,
   "id": "55cc8373",
   "metadata": {},
   "outputs": [
    {
     "name": "stderr",
     "output_type": "stream",
     "text": [
      "Preprocessing: 100%|██████████| 30/30 [00:05<00:00,  5.58it/s]\n",
      "100%|██████████| 7/7 [00:00<00:00, 582.02it/s]\n"
     ]
    }
   ],
   "source": [
    "poltest = PolyphonicPreProcessing(nDir = 30)"
   ]
  },
  {
   "cell_type": "code",
   "execution_count": 10,
   "id": "4f605ba1",
   "metadata": {},
   "outputs": [],
   "source": [
    "polconc = []\n",
    "for i in range(30, 50):\n",
    "   for j in range(2):\n",
    "      polconc.append(poltest['rock'][i]['Bars'][j].to_dense())"
   ]
  },
  {
   "cell_type": "code",
   "execution_count": 11,
   "id": "64433762",
   "metadata": {},
   "outputs": [
    {
     "name": "stdout",
     "output_type": "stream",
     "text": [
      "(4, 128, 640)\n"
     ]
    }
   ],
   "source": [
    "conc = np.concatenate(polconc, axis = 2)\n",
    "poltest['rock'][30]['Program']\n",
    "print(conc.shape)"
   ]
  },
  {
   "cell_type": "code",
   "execution_count": 12,
   "id": "a6b25cef",
   "metadata": {},
   "outputs": [],
   "source": [
    "PolyBarsToMIDI(conc, title = 'poltest', Instrument = [113, 25, 1, 41])"
   ]
  },
  {
   "cell_type": "code",
   "execution_count": null,
   "id": "f82eb878",
   "metadata": {},
   "outputs": [],
   "source": []
  },
  {
   "cell_type": "code",
   "execution_count": null,
   "id": "610c8f79",
   "metadata": {},
   "outputs": [],
   "source": []
  },
  {
   "cell_type": "code",
   "execution_count": null,
   "id": "13b9d3b4",
   "metadata": {},
   "outputs": [],
   "source": []
  },
  {
   "cell_type": "code",
   "execution_count": null,
   "id": "254f4fb9",
   "metadata": {},
   "outputs": [],
   "source": []
  },
  {
   "cell_type": "code",
   "execution_count": null,
   "id": "b45443a1",
   "metadata": {},
   "outputs": [],
   "source": []
  }
 ],
 "metadata": {
  "kernelspec": {
   "display_name": "base",
   "language": "python",
   "name": "python3"
  },
  "language_info": {
   "codemirror_mode": {
    "name": "ipython",
    "version": 3
   },
   "file_extension": ".py",
   "mimetype": "text/x-python",
   "name": "python",
   "nbconvert_exporter": "python",
   "pygments_lexer": "ipython3",
   "version": "3.12.9"
  }
 },
 "nbformat": 4,
 "nbformat_minor": 5
}
