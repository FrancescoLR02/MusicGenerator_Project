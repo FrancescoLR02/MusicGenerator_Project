{
 "cells": [
  {
   "cell_type": "code",
   "execution_count": null,
   "id": "57ccc183",
   "metadata": {},
   "outputs": [
    {
     "name": "stdout",
     "output_type": "stream",
     "text": [
      "The autoreload extension is already loaded. To reload it, use:\n",
      "  %reload_ext autoreload\n"
     ]
    }
   ],
   "source": [
    "%load_ext autoreload\n",
    "%autoreload 2\n",
    "\n",
    "import numpy as np\n",
    "import matplotlib.pyplot as plt\n",
    "import pandas as pd\n",
    "import pickle\n",
    "import pretty_midi\n",
    "import librosa\n",
    "import librosa.display\n",
    "import gc\n",
    "from sklearn.preprocessing import StandardScaler\n",
    "import warnings\n",
    "\n",
    "\n",
    "import torch\n",
    "from torch.utils.data import DataLoader, Dataset\n",
    "\n",
    "\n",
    "from sklearn.preprocessing import StandardScaler\n",
    "\n",
    "from Preprocessing import *\n",
    "from ExtractGenre import *\n",
    "\n",
    "import DatasetLoader as DL"
   ]
  },
  {
   "cell_type": "code",
   "execution_count": 22,
   "id": "fe5b0635",
   "metadata": {},
   "outputs": [],
   "source": [
    "InputPath = os.path.realpath('YAMF/genres_original')\n",
    "\n",
    "GenreMapping = {'metal': 0, 'disco': 1, 'classical': 2, 'hiphop': 3, 'jazz': 4,\n",
    "          'country': 5, 'pop': 6, 'blues': 7, 'reggae': 8, 'rock': 9}"
   ]
  },
  {
   "cell_type": "code",
   "execution_count": 48,
   "id": "5cf63f8c",
   "metadata": {},
   "outputs": [],
   "source": [
    "def NormalizeSpectrogram(X):\n",
    "   X_min = X.min()\n",
    "   X_max = X.max()\n",
    "   return (X - X_min) / (X_max - X_min)\n",
    "\n",
    "\n",
    "\n",
    "\n",
    "def DataCNN(InputPath = os.path.realpath('YAMF/genres_original'), length = 128):\n",
    "\n",
    "   numErr = 0\n",
    "\n",
    "   DataList = []\n",
    "   for dir in tqdm(os.listdir(InputPath)):\n",
    "      \n",
    "      DirPath = os.path.join(InputPath, dir)\n",
    "\n",
    "      if not os.path.isdir(DirPath):\n",
    "         continue\n",
    "\n",
    "      genre = GenreMapping[dir]\n",
    "\n",
    "      for song in os.listdir(DirPath):\n",
    "         warnings.filterwarnings('ignore')\n",
    "\n",
    "\n",
    "         SongPath = os.path.join(DirPath, song)\n",
    "\n",
    "         try:\n",
    "            y, sr = librosa.load(SongPath, sr=22050)\n",
    "            mel_spec = librosa.feature.melspectrogram(y=y, sr=sr, n_mels=128)\n",
    "            S_db = librosa.amplitude_to_db(mel_spec, ref=np.max)\n",
    "         except:\n",
    "            numErr += 1\n",
    "            continue \n",
    "\n",
    "         for _ in range(50):\n",
    "\n",
    "            rIDX = np.random.randint(0, np.shape(S_db)[1] - length)\n",
    "            indexs = np.arange(rIDX, rIDX + length)\n",
    "\n",
    "            X = S_db[:, indexs]\n",
    "\n",
    "            NormX = NormalizeSpectrogram(X)\n",
    "            DataList.append((X, NormX))\n",
    "\n",
    "   return DataList\n"
   ]
  },
  {
   "cell_type": "code",
   "execution_count": 49,
   "id": "33aced47",
   "metadata": {},
   "outputs": [
    {
     "name": "stderr",
     "output_type": "stream",
     "text": [
      "100%|██████████| 11/11 [00:24<00:00,  2.26s/it]\n"
     ]
    }
   ],
   "source": [
    "DataList = DataCNN()"
   ]
  },
  {
   "cell_type": "code",
   "execution_count": 50,
   "id": "0f0e1e82",
   "metadata": {},
   "outputs": [
    {
     "data": {
      "text/plain": [
       "49950"
      ]
     },
     "execution_count": 50,
     "metadata": {},
     "output_type": "execute_result"
    }
   ],
   "source": [
    "len(DataList)"
   ]
  },
  {
   "cell_type": "code",
   "execution_count": 51,
   "id": "ec52703a",
   "metadata": {},
   "outputs": [],
   "source": [
    "with open('YAMF/test.pkl', 'wb') as f:\n",
    "   pickle.dump(DataList, f)"
   ]
  },
  {
   "cell_type": "code",
   "execution_count": null,
   "id": "6d02b82b",
   "metadata": {},
   "outputs": [],
   "source": []
  }
 ],
 "metadata": {
  "kernelspec": {
   "display_name": "base",
   "language": "python",
   "name": "python3"
  },
  "language_info": {
   "codemirror_mode": {
    "name": "ipython",
    "version": 3
   },
   "file_extension": ".py",
   "mimetype": "text/x-python",
   "name": "python",
   "nbconvert_exporter": "python",
   "pygments_lexer": "ipython3",
   "version": "3.12.9"
  }
 },
 "nbformat": 4,
 "nbformat_minor": 5
}
