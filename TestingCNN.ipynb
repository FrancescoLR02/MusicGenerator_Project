{
 "cells": [
  {
   "cell_type": "code",
   "execution_count": null,
   "id": "57ccc183",
   "metadata": {},
   "outputs": [
    {
     "name": "stdout",
     "output_type": "stream",
     "text": [
      "The autoreload extension is already loaded. To reload it, use:\n",
      "  %reload_ext autoreload\n"
     ]
    }
   ],
   "source": [
    "%load_ext autoreload\n",
    "%autoreload 2\n",
    "\n",
    "import numpy as np\n",
    "import matplotlib.pyplot as plt\n",
    "import pandas as pd\n",
    "import pickle\n",
    "import pretty_midi\n",
    "import librosa\n",
    "import librosa.display\n",
    "import gc\n",
    "from sklearn.preprocessing import StandardScaler\n",
    "import warnings\n",
    "from collections import Counter\n",
    "from torch.utils.data import Dataset\n",
    "import torch\n",
    "\n",
    "\n",
    "\n",
    "import torch\n",
    "import torch.nn as nn\n",
    "from torch.utils.data import DataLoader, Dataset\n",
    "\n",
    "\n",
    "from sklearn.preprocessing import StandardScaler\n",
    "\n",
    "from Preprocessing import *\n",
    "from ExtractGenre import *\n",
    "from CNN_ExtractGenre import *\n",
    "import Util as Util\n",
    "\n",
    "import DatasetLoader as DL"
   ]
  },
  {
   "cell_type": "code",
   "execution_count": 5,
   "id": "fe5b0635",
   "metadata": {},
   "outputs": [],
   "source": [
    "InputPath = os.path.realpath('YAMF/genres_original')\n",
    "\n",
    "GenreMapping = {'metal': 0, 'disco': 1, 'classical': 2, 'hiphop': 3, 'jazz': 4,\n",
    "          'country': 5, 'pop': 6, 'blues': 7, 'reggae': 8, 'rock': 9}"
   ]
  },
  {
   "cell_type": "code",
   "execution_count": 6,
   "id": "8f238c6c",
   "metadata": {},
   "outputs": [],
   "source": [
    "with open('GenreDataset.pkl', 'rb') as f:\n",
    "   GenreDataset = pickle.load(f)"
   ]
  },
  {
   "cell_type": "code",
   "execution_count": 7,
   "id": "d58d1846",
   "metadata": {},
   "outputs": [
    {
     "name": "stderr",
     "output_type": "stream",
     "text": [
      "100%|██████████| 13164/13164 [00:00<00:00, 28717.90it/s]\n",
      "100%|██████████| 13164/13164 [00:30<00:00, 425.59it/s]\n",
      "100%|██████████| 13164/13164 [00:16<00:00, 785.38it/s] \n",
      "100%|██████████| 13164/13164 [00:00<00:00, 28594.27it/s]\n",
      "100%|██████████| 13164/13164 [00:17<00:00, 771.74it/s]\n",
      "100%|██████████| 13164/13164 [00:19<00:00, 683.34it/s]\n",
      "100%|██████████| 13164/13164 [00:18<00:00, 702.80it/s] \n",
      "100%|██████████| 13164/13164 [00:03<00:00, 4380.56it/s]\n",
      "100%|██████████| 13164/13164 [00:06<00:00, 1975.59it/s]\n",
      "100%|██████████| 13164/13164 [02:01<00:00, 108.26it/s]\n"
     ]
    },
    {
     "name": "stdout",
     "output_type": "stream",
     "text": [
      "2317\n"
     ]
    }
   ],
   "source": [
    "CNN_GenreDataset = DiscriminateSongGenre(GenreDataset)"
   ]
  },
  {
   "cell_type": "code",
   "execution_count": null,
   "id": "5141157f",
   "metadata": {},
   "outputs": [],
   "source": [
    "with open('CNN_GenreDataset.pkl', 'rb') as f:\n",
    "   CNN_GenreDataset = pickle.load(f)"
   ]
  },
  {
   "cell_type": "code",
   "execution_count": null,
   "id": "6085bb72",
   "metadata": {},
   "outputs": [],
   "source": [
    "# with open('CNN_GenreDataset.pkl', 'wb') as f:\n",
    "#    pickle.dump(CNN_GenreDataset, f)"
   ]
  },
  {
   "cell_type": "code",
   "execution_count": null,
   "id": "73bf39a9",
   "metadata": {},
   "outputs": [],
   "source": []
  },
  {
   "cell_type": "code",
   "execution_count": null,
   "id": "daacf325",
   "metadata": {},
   "outputs": [],
   "source": [
    "Input = os.path.realpath('../Mono_CleanMidi/Eminem/Bad Meets Evil.mid')\n",
    "\n",
    "mid = mido.MidiFile(Input)\n",
    "mid"
   ]
  },
  {
   "cell_type": "code",
   "execution_count": null,
   "id": "00523c50",
   "metadata": {},
   "outputs": [],
   "source": [
    "Input = os.path.realpath('clean_midi/Eminem/Bad Meets Evil.mid')\n",
    "\n",
    "mid = mido.MidiFile(Input)\n",
    "\n",
    "for i, track in enumerate(mid.tracks):\n",
    "   for msg in track:\n",
    "\n",
    "      if msg.type == 'program_change':\n",
    "            print(f\"Trach {i} Program Change: Channel={msg.channel}, Program={msg.program}\")\n",
    "      else:\n",
    "          continue\n",
    "\n",
    "print(mid)"
   ]
  },
  {
   "cell_type": "code",
   "execution_count": null,
   "id": "105f5ccb",
   "metadata": {},
   "outputs": [],
   "source": [
    "Input = os.path.realpath('clean_midi/Eminem/Bad Meets Evil.mid')\n",
    "\n",
    "mid = mido.MidiFile(Input)\n",
    "\n",
    "for i, track in enumerate(mid.tracks):\n",
    "   for msg in track:\n",
    "\n",
    "      if msg.type == 'note_on' and msg.velocity > 0:\n",
    "            print(msg)\n",
    "      elif msg.is_meta:\n",
    "            print(msg)"
   ]
  },
  {
   "cell_type": "code",
   "execution_count": 113,
   "id": "7832f0d3",
   "metadata": {},
   "outputs": [
    {
     "name": "stdout",
     "output_type": "stream",
     "text": [
      "35 0\n",
      "40 1\n",
      "25 2\n",
      "0 9\n"
     ]
    }
   ],
   "source": [
    "Input = os.path.realpath('Mono_CleanMidi/Eminem/Stan.mid')\n",
    "\n",
    "mid = mido.MidiFile(Input)\n",
    "\n",
    "for i, track in enumerate(mid.tracks):\n",
    "\n",
    "    has_program_change = any(msg.type == 'program_change' for msg in track)\n",
    "\n",
    "    if has_program_change:\n",
    "\n",
    "        Program = [msg.program for msg in track if msg.type == 'program_change'][0]\n",
    "        Channel = [msg.channel for msg in track if msg.type == 'program_change'][0]\n",
    "        print(Program, Channel)\n",
    "        #print(f\"\\nTrack {i} contains a program_change — processing all messages:\")\n",
    "        #for msg in track:\n",
    "            #print(msg)"
   ]
  },
  {
   "cell_type": "code",
   "execution_count": null,
   "id": "e79bfd9e",
   "metadata": {},
   "outputs": [],
   "source": []
  },
  {
   "cell_type": "code",
   "execution_count": null,
   "id": "6671b01c",
   "metadata": {},
   "outputs": [],
   "source": [
    "def PreProcessing(nDir = 300):\n",
    "\n",
    "   Dataset = {}\n",
    "\n",
    "   InputPath = os.path.relpath('Mono_CleanMidi')\n",
    "\n",
    "   #Selecting a random number of directory\n",
    "   all_dirs = [d for d in os.listdir(InputPath) if os.path.isdir(os.path.join(InputPath, d))]\n",
    "\n",
    "   random_dirs = np.random.choice(all_dirs, nDir)\n",
    "\n",
    "   for dir in tqdm(random_dirs, desc='Preprocessing'):\n",
    "      DirPath = os.path.join(InputPath, dir)\n",
    "\n",
    "      if not os.path.isdir(DirPath):\n",
    "         continue\n",
    "\n",
    "      #Real all the file in each folder\n",
    "      for file in os.listdir(DirPath):\n",
    "\n",
    "         FilePath = os.path.join(DirPath, file)\n",
    "\n",
    "         #Cleaned monophonic: Some songs are corrupted:\n",
    "         mid = Func_CorruptedFile(FilePath, file, dir)\n",
    "\n",
    "         if mid is None:\n",
    "            continue\n",
    "\n",
    "         Dataset = ToGeneralInfo(mid, Dataset, file)\n",
    "\n",
    "\n",
    "   #Remove garbage tracks\n",
    "   for track in list(Dataset.keys()):\n",
    "      if len(Dataset[track]['Tempo']) < 20:\n",
    "         del Dataset[track]\n",
    "\n",
    "   NormDataset = ReMap_Database(Dataset)\n",
    "   Dataset = NormDataset\n",
    "\n",
    "   for track in Dataset.keys():\n",
    "      Dataset[track]['Bars'] = np.array(Dataset[track]['Bars'])\n",
    "\n",
    "\n",
    "   return Dataset"
   ]
  },
  {
   "cell_type": "code",
   "execution_count": null,
   "id": "621757bf",
   "metadata": {},
   "outputs": [],
   "source": [
    "def ToGeneralInfo(mid, Dataset, file):\n",
    "\n",
    "   Func_Tempo = lambda t: 60_000_000 / t\n",
    "   TicksPerBeat = mid.ticks_per_beat\n",
    "\n",
    "   #defining the tempo of file (one for each)\n",
    "   if len(mid.tracks) > 0:\n",
    "      InitialTrack = mid.tracks[0]\n",
    "      for msg in InitialTrack:\n",
    "         if msg.type == 'set_tempo':\n",
    "\n",
    "            Tempo = Func_Tempo(msg.tempo)\n",
    "            break\n",
    "         else:\n",
    "            Tempo = 0\n",
    "\n",
    "   #Loop over all tracks (beside the first --> metadata)\n",
    "   for track in mid.tracks[1:]:\n",
    "      #Consider only the tracks that have an instrument in it (remove grabage)\n",
    "      HasProgramChange = any(msg.type == 'program_change' for msg in track)\n",
    "\n",
    "      if HasProgramChange:\n",
    "\n",
    "         Program = [msg.program for msg in track if msg.type == 'program_change'][0]\n",
    "         Channel = [msg.channel for msg in track if msg.type == 'program_change'][0]\n",
    "\n",
    "         if Program[0] == 0:\n",
    "            continue\n",
    "\n",
    "         #Compute the (128x16) bars matrix for each track\n",
    "         Bars = ToBars(track, TicksPerBeat)\n",
    "\n",
    "         if Bars is None:\n",
    "            continue\n",
    "\n",
    "         TrackName = f'{file[:-4]}'\n",
    "         #If there is not the track in the dataset, add it\n",
    "         if TrackName not in Dataset:               \n",
    "            Dataset[TrackName] = {\n",
    "               'Bars': [],\n",
    "               'Tempo': [], \n",
    "               'Program': [], \n",
    "               'Channel': [] \n",
    "            }\n",
    "         \n",
    "         #and add the information to the Dataset dictionary\n",
    "         Dataset[TrackName]['Bars'].extend(Bars)\n",
    "         Dataset[TrackName]['Tempo'].extend([int(Tempo)] * len(Bars))\n",
    "         Dataset[TrackName]['Program'].extend(Program * len(Bars))\n",
    "         Dataset[TrackName]['Channel'].extend(Channel * len(Bars))\n",
    "\n",
    "   return Dataset"
   ]
  },
  {
   "cell_type": "code",
   "execution_count": 196,
   "id": "63c587ed",
   "metadata": {},
   "outputs": [],
   "source": [
    "Input = os.path.realpath('Mono_CleanMidi/Eminem/Stan.mid')\n",
    "\n",
    "mid = mido.MidiFile(Input)\n",
    "\n",
    "Dataset = {}\n",
    "Dataset = ToGeneralInfo(mid, Dataset, 'Stan.mid')"
   ]
  },
  {
   "cell_type": "code",
   "execution_count": 138,
   "id": "0a8e9c65",
   "metadata": {},
   "outputs": [
    {
     "data": {
      "text/plain": [
       "10432"
      ]
     },
     "execution_count": 138,
     "metadata": {},
     "output_type": "execute_result"
    }
   ],
   "source": [
    "from pympler import asizeof\n",
    "asizeof.asizeof(Dataset)\n",
    "\n",
    "#Dataset"
   ]
  },
  {
   "cell_type": "code",
   "execution_count": 222,
   "id": "386b6979",
   "metadata": {},
   "outputs": [
    {
     "name": "stderr",
     "output_type": "stream",
     "text": [
      "Preprocessing: 100%|██████████| 20/20 [00:01<00:00, 11.02it/s]\n"
     ]
    }
   ],
   "source": [
    "test = PreProcessing(nDir = 20)"
   ]
  },
  {
   "cell_type": "code",
   "execution_count": null,
   "id": "ce341c49",
   "metadata": {},
   "outputs": [],
   "source": [
    "test"
   ]
  },
  {
   "cell_type": "code",
   "execution_count": 223,
   "id": "5b7e1c02",
   "metadata": {},
   "outputs": [
    {
     "name": "stdout",
     "output_type": "stream",
     "text": [
      "Too Late for Goodbyes\n",
      "Gimme Three Steps\n",
      "Sweet Home Alabama\n",
      "Free Bird\n",
      "What's Your Name\n",
      "I Know a Little\n",
      "Le temps qui court.1\n",
      "Symphony No. 2 in B major, Op. 4 B 12 : II. Poco adagio\n",
      "Crushing Day\n",
      "Surfing With the Alien\n",
      "Day at the Beach\n",
      "The Mighty Turtle Head\n",
      "Summer Song\n",
      "Un'emergenza d'amore.1\n",
      "Strani Amori\n",
      "Mi Rubi L'anima\n",
      "Anni miei\n",
      "Incancellabile\n",
      "La Solitudine\n",
      "Il coraggio che non c'e\n",
      "Mickey\n",
      "Let's Make the Water Turn Black\n",
      "Peaches en Regalia\n",
      "Montana (Whipping Floss)\n",
      "Bitch\n",
      "Walk On The Wild Side.1\n",
      "Loser.1\n",
      "Where It's At.1\n",
      "Deadweight\n",
      "Devil's Haircut.1\n",
      "Jack-Ass\n",
      "Readymade\n",
      "Telstar\n",
      "Take Me for a Ride\n",
      "(They Long to Be) Close to You\n",
      "Please Mister Postman\n",
      "There's A Kind Of Hush\n",
      "It's Going to Take Sometime\n",
      "Top of the World.5\n",
      "This Masquerade.1\n",
      "Hurting Each Other\n",
      "Rainy Days and Mondays\n",
      "For All We Know.1\n",
      "It's Going to Take Some Time\n",
      "Jambalaya (On the Bayou)\n",
      "Only Yesterday\n",
      "Yesterday Once More (Reprise).1\n",
      "Breaking Up Is Hard to Do\n",
      "Goodbye to Love.1\n",
      "Just Remember I Love You\n",
      "Carolina in My Mind\n",
      "Fire & Rain\n",
      "Handy Man\n",
      "How Sweet It Is (To Be Loved By You)\n"
     ]
    }
   ],
   "source": [
    "MappedDataset = {}\n",
    "\n",
    "for key, value in test.items():\n",
    "\n",
    "   print(key)\n",
    "   \n",
    "   for i, prog in enumerate(value['Program']):\n",
    "\n",
    "      Instrument = Util.InstrumentFamily_Map[prog]\n",
    "\n",
    "      if Instrument not in MappedDataset:\n",
    "         MappedDataset[Instrument] = {\n",
    "            'Bars': [],\n",
    "            'Tempo': [],\n",
    "            'Program': [],\n",
    "            'Channel': []\n",
    "         }\n",
    "\n",
    "      MappedDataset[Instrument]['Bars'].extend(value['Bars'][i])\n",
    "      MappedDataset[Instrument]['Tempo'].append(value['Tempo'][i])\n",
    "      MappedDataset[Instrument]['Program'].append(prog)\n",
    "      MappedDataset[Instrument]['Channel'].append(value['Channel'][i])\n",
    "\n",
    "\n"
   ]
  },
  {
   "cell_type": "code",
   "execution_count": null,
   "id": "a845ac61",
   "metadata": {},
   "outputs": [],
   "source": []
  }
 ],
 "metadata": {
  "kernelspec": {
   "display_name": "base",
   "language": "python",
   "name": "python3"
  },
  "language_info": {
   "codemirror_mode": {
    "name": "ipython",
    "version": 3
   },
   "file_extension": ".py",
   "mimetype": "text/x-python",
   "name": "python",
   "nbconvert_exporter": "python",
   "pygments_lexer": "ipython3",
   "version": "3.12.9"
  }
 },
 "nbformat": 4,
 "nbformat_minor": 5
}
