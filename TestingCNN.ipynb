{
 "cells": [
  {
   "cell_type": "code",
   "execution_count": 1,
   "id": "57ccc183",
   "metadata": {},
   "outputs": [],
   "source": [
    "%load_ext autoreload\n",
    "%autoreload 2\n",
    "\n",
    "import numpy as np\n",
    "import matplotlib.pyplot as plt\n",
    "import pandas as pd\n",
    "import pickle\n",
    "import pretty_midi\n",
    "import librosa\n",
    "import librosa.display\n",
    "import gc\n",
    "from sklearn.preprocessing import StandardScaler\n",
    "import warnings\n",
    "from collections import Counter\n",
    "from torch.utils.data import Dataset\n",
    "import torch\n",
    "from pympler import asizeof\n",
    "\n",
    "\n",
    "\n",
    "import torch\n",
    "import torch.nn as nn\n",
    "from torch.utils.data import DataLoader, Dataset\n",
    "\n",
    "\n",
    "from sklearn.preprocessing import StandardScaler\n",
    "\n",
    "from Preprocessing import *\n",
    "#from ExtractGenre import *\n",
    "from CNN_ExtractGenre import *\n",
    "from PolyphonicPreprocessing import *\n",
    "import Util as Util\n",
    "\n",
    "import DatasetLoader as DL\n",
    "\n"
   ]
  },
  {
   "cell_type": "code",
   "execution_count": 12,
   "id": "fe5b0635",
   "metadata": {},
   "outputs": [],
   "source": [
    "GenreMapping = {'metal': 0, 'disco': 1, 'classical': 2, 'hiphop': 3, 'jazz': 4,\n",
    "          'country': 5, 'pop': 6, 'blues': 7, 'reggae': 8, 'rock': 9}"
   ]
  },
  {
   "cell_type": "code",
   "execution_count": 17,
   "id": "8bb100a5",
   "metadata": {},
   "outputs": [],
   "source": [
    "Path = os.path.realpath('clean_midi/Eminem/Bad Meets Evil.mid')\n",
    "mid = mido.MidiFile(Path)\n",
    "#print(mid)"
   ]
  },
  {
   "cell_type": "code",
   "execution_count": 2,
   "id": "50f447e4",
   "metadata": {},
   "outputs": [],
   "source": [
    "test = torch.load('Dataset.pt')"
   ]
  },
  {
   "cell_type": "code",
   "execution_count": 3,
   "id": "27b8e543",
   "metadata": {},
   "outputs": [],
   "source": [
    "from DatasetLoader import collate_fn as cf\n",
    "\n",
    "Data = DL.MonophonicDataset(Instrument='Guitar')\n",
    "trainData = DataLoader(Data, batch_size=10, shuffle=True, num_workers=0, collate_fn=cf)"
   ]
  },
  {
   "cell_type": "code",
   "execution_count": null,
   "id": "60b62dd6",
   "metadata": {},
   "outputs": [],
   "source": []
  },
  {
   "cell_type": "code",
   "execution_count": null,
   "id": "5cdf07c4",
   "metadata": {},
   "outputs": [],
   "source": []
  },
  {
   "cell_type": "code",
   "execution_count": 7,
   "id": "77dc814e",
   "metadata": {},
   "outputs": [],
   "source": [
    "polconc = []\n",
    "for i in range(30, 50):\n",
    "   for j in range(2):\n",
    "      polconc.append(test['Piano'][i]['Bars'][j].to_dense())"
   ]
  },
  {
   "cell_type": "code",
   "execution_count": 8,
   "id": "e2754fa2",
   "metadata": {},
   "outputs": [],
   "source": [
    "conc = np.concatenate(polconc, axis = 1)\n",
    "MonoBarsToMIDI(conc, title = 'test', Instrument = 4)"
   ]
  },
  {
   "cell_type": "code",
   "execution_count": 9,
   "id": "55cc8373",
   "metadata": {},
   "outputs": [
    {
     "name": "stderr",
     "output_type": "stream",
     "text": [
      "Preprocessing: 100%|██████████| 30/30 [00:05<00:00,  5.58it/s]\n",
      "100%|██████████| 7/7 [00:00<00:00, 582.02it/s]\n"
     ]
    }
   ],
   "source": [
    "poltest = PolyphonicPreProcessing(nDir = 30)"
   ]
  },
  {
   "cell_type": "code",
   "execution_count": 10,
   "id": "4f605ba1",
   "metadata": {},
   "outputs": [],
   "source": [
    "polconc = []\n",
    "for i in range(30, 50):\n",
    "   for j in range(2):\n",
    "      polconc.append(poltest['rock'][i]['Bars'][j].to_dense())"
   ]
  },
  {
   "cell_type": "code",
   "execution_count": 11,
   "id": "64433762",
   "metadata": {},
   "outputs": [
    {
     "name": "stdout",
     "output_type": "stream",
     "text": [
      "(4, 128, 640)\n"
     ]
    }
   ],
   "source": [
    "conc = np.concatenate(polconc, axis = 2)\n",
    "poltest['rock'][30]['Program']\n",
    "print(conc.shape)"
   ]
  },
  {
   "cell_type": "code",
   "execution_count": 12,
   "id": "a6b25cef",
   "metadata": {},
   "outputs": [],
   "source": [
    "PolyBarsToMIDI(conc, title = 'poltest', Instrument = [113, 25, 1, 41])"
   ]
  },
  {
   "cell_type": "code",
   "execution_count": null,
   "id": "f82eb878",
   "metadata": {},
   "outputs": [],
   "source": []
  },
  {
   "cell_type": "code",
   "execution_count": null,
   "id": "610c8f79",
   "metadata": {},
   "outputs": [],
   "source": []
  },
  {
   "cell_type": "code",
   "execution_count": null,
   "id": "13b9d3b4",
   "metadata": {},
   "outputs": [],
   "source": []
  },
  {
   "cell_type": "code",
   "execution_count": null,
   "id": "254f4fb9",
   "metadata": {},
   "outputs": [],
   "source": []
  },
  {
   "cell_type": "code",
   "execution_count": null,
   "id": "b45443a1",
   "metadata": {},
   "outputs": [],
   "source": []
  }
 ],
 "metadata": {
  "kernelspec": {
   "display_name": "base",
   "language": "python",
   "name": "python3"
  },
  "language_info": {
   "codemirror_mode": {
    "name": "ipython",
    "version": 3
   },
   "file_extension": ".py",
   "mimetype": "text/x-python",
   "name": "python",
   "nbconvert_exporter": "python",
   "pygments_lexer": "ipython3",
   "version": "3.12.9"
  }
 },
 "nbformat": 4,
 "nbformat_minor": 5
}
